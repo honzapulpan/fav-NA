{
 "cells": [
  {
   "cell_type": "code",
   "execution_count": 1,
   "metadata": {},
   "outputs": [],
   "source": [
    "import numpy as np\n",
    "from rogues import lauchli # Python and Numpy port of Prof. Nicholas Higham's matlab test matrices\n",
    "import pandas as pd\n",
    "import time\n",
    "\n",
    "np.set_printoptions(precision=4, suppress=True)"
   ]
  },
  {
   "cell_type": "code",
   "execution_count": 86,
   "metadata": {},
   "outputs": [],
   "source": [
    "def qr_householder(A):\n",
    "    \n",
    "    #n = np.min(A.shape)\n",
    "    n, m = A.shape\n",
    "    o = np.min([n,m])\n",
    "    if n > m: \n",
    "        o += 1\n",
    "    R = np.copy(A)\n",
    "    Q = np.identity(n)\n",
    "    I = np.identity(n) # matice s vektory báze\n",
    "\n",
    "    for i in range(o-1):\n",
    "        print(i)\n",
    "        x = R[i:,i].reshape(n-i,1) \n",
    "        e = I[i:,i].reshape(n-i,1) \n",
    "\n",
    "        q = x + (np.sign(x.item(0)) * np.linalg.norm(x)) * e\n",
    "        q = q / np.linalg.norm(q)\n",
    "\n",
    "        H_q = np.identity(n-i) - 2 * q @ q.T\n",
    "        H_q = np.pad(H_q,(i,0),'constant')\n",
    "\n",
    "        Q_i = np.array([[float(k == l) if k < i else 0 for k in range(n)] for l in range(n)]) + H_q\n",
    "\n",
    "        Q = Q_i @ Q\n",
    "        R = Q_i @ R\n",
    "    \n",
    "    return Q.T, R"
   ]
  },
  {
   "cell_type": "code",
   "execution_count": 103,
   "metadata": {},
   "outputs": [
    {
     "name": "stdout",
     "output_type": "stream",
     "text": [
      "0\n",
      "1\n",
      "2\n",
      "3\n",
      "Q:\n",
      "[[-0.1167  0.6127 -0.1503  0.3797 -0.4438 -0.4973]\n",
      " [-0.4173 -0.0113 -0.6752  0.3948  0.3994  0.2331]\n",
      " [-0.0443  0.6744 -0.1748 -0.652   0.1889  0.2277]\n",
      " [-0.7324 -0.2779 -0.0484 -0.3656 -0.5002  0.0115]\n",
      " [-0.4996  0.1278  0.5519  0.0596  0.5556 -0.3424]\n",
      " [-0.1558  0.2759  0.4289  0.371  -0.2211  0.7274]]\n",
      "R:\n",
      "[[ -98.6578 -122.6773 -112.6894 -119.6759]\n",
      " [   0.      128.8261   73.6313   73.6784]\n",
      " [  -0.       -0.      -74.2668   18.1857]\n",
      " [   0.       -0.       -0.       61.909 ]\n",
      " [  -0.        0.        0.       -0.    ]\n",
      " [  -0.        0.        0.       -0.    ]]\n"
     ]
    }
   ],
   "source": [
    "A = np.random.uniform(0,100,(6,4))\n",
    "Q, R = qr_householder(A)\n",
    "\n",
    "print(f'Q:\\n{Q}')\n",
    "print(f'R:\\n{R}')"
   ]
  },
  {
   "cell_type": "code",
   "execution_count": 101,
   "metadata": {},
   "outputs": [
    {
     "data": {
      "text/plain": [
       "True"
      ]
     },
     "execution_count": 101,
     "metadata": {},
     "output_type": "execute_result"
    }
   ],
   "source": [
    "np.allclose(A, Q @ R)"
   ]
  },
  {
   "cell_type": "code",
   "execution_count": 32,
   "metadata": {},
   "outputs": [],
   "source": [
    "n, m = A.shape\n",
    "o = np.min([n,m])"
   ]
  },
  {
   "cell_type": "code",
   "execution_count": 33,
   "metadata": {},
   "outputs": [],
   "source": [
    "r = np.copy(A[:o,:m])"
   ]
  },
  {
   "cell_type": "code",
   "execution_count": 34,
   "metadata": {},
   "outputs": [
    {
     "data": {
      "text/plain": [
       "array([[ 2.4716, 92.1948, 38.0735, 57.6491],\n",
       "       [31.619 , 39.866 , 53.7656, 29.653 ],\n",
       "       [ 6.6476, 41.7207, 12.1078, 82.6036],\n",
       "       [ 8.9796, 33.9384, 54.9844,  1.1252],\n",
       "       [76.4645, 54.5281, 19.9026, 90.2216],\n",
       "       [51.4644, 74.0196, 22.755 , 26.3884]])"
      ]
     },
     "execution_count": 34,
     "metadata": {},
     "output_type": "execute_result"
    }
   ],
   "source": [
    "A"
   ]
  },
  {
   "cell_type": "code",
   "execution_count": 35,
   "metadata": {},
   "outputs": [
    {
     "data": {
      "text/plain": [
       "array([[ 2.4716, 92.1948, 38.0735, 57.6491],\n",
       "       [31.619 , 39.866 , 53.7656, 29.653 ],\n",
       "       [ 6.6476, 41.7207, 12.1078, 82.6036],\n",
       "       [ 8.9796, 33.9384, 54.9844,  1.1252]])"
      ]
     },
     "execution_count": 35,
     "metadata": {},
     "output_type": "execute_result"
    }
   ],
   "source": [
    "r"
   ]
  },
  {
   "cell_type": "code",
   "execution_count": null,
   "metadata": {},
   "outputs": [],
   "source": []
  }
 ],
 "metadata": {
  "kernelspec": {
   "display_name": "Python 3",
   "language": "python",
   "name": "python3"
  },
  "language_info": {
   "codemirror_mode": {
    "name": "ipython",
    "version": 3
   },
   "file_extension": ".py",
   "mimetype": "text/x-python",
   "name": "python",
   "nbconvert_exporter": "python",
   "pygments_lexer": "ipython3",
   "version": "3.6.4"
  }
 },
 "nbformat": 4,
 "nbformat_minor": 4
}
