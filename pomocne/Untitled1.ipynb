{
 "cells": [
  {
   "cell_type": "code",
   "execution_count": 5,
   "metadata": {},
   "outputs": [],
   "source": [
    "import numpy as np\n",
    "\n",
    "def householder(x):\n",
    "    x[0] = x[0] + np.sign(x[0]) * np.linalg.norm(x)\n",
    "    x /= np.linalg.norm(x)\n",
    "    return x\n",
    "\n",
    "def tridiag_qr(T):\n",
    "    R = T.copy()\n",
    "    Qt = np.eye(T.shape[0])\n",
    "\n",
    "    for i in range(T.shape[0] - 1):\n",
    "        u = householder(T[i:i+2, i])\n",
    "\n",
    "        R[i:i+2, :] = R[i:i+2, :] - 2 * np.outer(u, np.dot(u, R[i:i+2, :]))\n",
    "        Qt[i:i+2, :] = Qt[i:i+2, :] - 2 * np.outer(u, np.dot(u, Qt[i:i+2, :]))\n",
    "\n",
    "    return Qt.T, R"
   ]
  },
  {
   "cell_type": "code",
   "execution_count": 11,
   "metadata": {},
   "outputs": [],
   "source": [
    "SIZE = 1500\n",
    "TRIALS = 20\n",
    "\n",
    "subsup = np.random.rand(SIZE - 1)\n",
    "diagonal = np.random.rand(SIZE)\n",
    "T = np.diag(subsup, 1) + np.diag(subsup, -1) + np.diag(diagonal)"
   ]
  },
  {
   "cell_type": "code",
   "execution_count": 13,
   "metadata": {},
   "outputs": [],
   "source": [
    "A = np.random.rand(6,6)\n"
   ]
  },
  {
   "cell_type": "code",
   "execution_count": 14,
   "metadata": {},
   "outputs": [
    {
     "data": {
      "text/plain": [
       "(array([[-0.8777,  0.3136, -0.3447,  0.1054, -0.0103, -0.0347],\n",
       "        [-0.4791, -0.5745,  0.6315, -0.1931,  0.0188,  0.0636],\n",
       "        [ 0.    , -0.7561, -0.6228,  0.1904, -0.0186, -0.0627],\n",
       "        [ 0.    ,  0.    , -0.3076, -0.9   ,  0.0878,  0.2963],\n",
       "        [ 0.    ,  0.    ,  0.    , -0.3247, -0.2688, -0.9068],\n",
       "        [ 0.    ,  0.    ,  0.    ,  0.    , -0.9588,  0.2842]]),\n",
       " array([[-0.6424, -0.8667, -0.4233, -0.6759, -0.3112, -0.7501],\n",
       "        [-0.4891, -1.0447, -1.0291, -0.3867, -0.2923, -0.5133],\n",
       "        [-0.522 , -0.4103,  0.0513, -0.0216, -0.508 , -0.2493],\n",
       "        [-0.5099, -0.654 , -0.2548, -0.0915, -0.1117, -0.802 ],\n",
       "        [-0.4559, -0.4763, -0.0383, -0.0418, -0.6547, -0.9501],\n",
       "        [-0.6491, -0.584 ,  0.0492,  0.0115,  0.0264, -0.2499]]))"
      ]
     },
     "execution_count": 14,
     "metadata": {},
     "output_type": "execute_result"
    }
   ],
   "source": [
    "tridiag_qr(A)"
   ]
  },
  {
   "cell_type": "code",
   "execution_count": 6,
   "metadata": {},
   "outputs": [
    {
     "name": "stdout",
     "output_type": "stream",
     "text": [
      "0.16790799999999995\n",
      "0.11188599999999971\n",
      "0.11123899999999987\n",
      "0.11734500000000025\n",
      "0.10710100000000011\n",
      "0.12109799999999993\n",
      "0.11297500000000005\n",
      "0.11429700000000009\n",
      "0.106325\n",
      "0.116892\n",
      "0.10504699999999989\n",
      "0.11581900000000012\n",
      "0.10579699999999992\n",
      "0.11054500000000012\n",
      "0.10492400000000002\n",
      "0.10919599999999985\n",
      "0.10625899999999966\n",
      "0.11079099999999986\n",
      "0.10741200000000006\n",
      "0.11436400000000013\n"
     ]
    }
   ],
   "source": [
    "import time\n",
    "\n",
    "for _ in range(TRIALS):\n",
    "    tic = time.clock()\n",
    "    tridiag_qr(T)\n",
    "    #np.linalg.qr(T)\n",
    "    print(time.clock() - tic)"
   ]
  },
  {
   "cell_type": "code",
   "execution_count": null,
   "metadata": {},
   "outputs": [],
   "source": []
  }
 ],
 "metadata": {
  "kernelspec": {
   "display_name": "Python 3",
   "language": "python",
   "name": "python3"
  },
  "language_info": {
   "codemirror_mode": {
    "name": "ipython",
    "version": 3
   },
   "file_extension": ".py",
   "mimetype": "text/x-python",
   "name": "python",
   "nbconvert_exporter": "python",
   "pygments_lexer": "ipython3",
   "version": "3.6.4"
  }
 },
 "nbformat": 4,
 "nbformat_minor": 4
}
