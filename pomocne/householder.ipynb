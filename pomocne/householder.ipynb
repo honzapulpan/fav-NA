{
 "cells": [
  {
   "cell_type": "code",
   "execution_count": 1,
   "metadata": {},
   "outputs": [],
   "source": [
    "import numpy as np\n",
    "import numpy.linalg as la\n",
    "np.set_printoptions(precision=4, suppress=True)"
   ]
  },
  {
   "cell_type": "code",
   "execution_count": 39,
   "metadata": {},
   "outputs": [],
   "source": [
    "def householder(A):\n",
    "    m, n = A.shape\n",
    "    Q = np.eye(m)\n",
    "    H = A.copy()\n",
    "\n",
    "    for k in range(n-2):\n",
    "        v = H[k:, k] #vemu k-tý sloupec, od k+1 prvku\n",
    "        \n",
    "        norm_v = np.sign(v[0])*np.linalg.norm(v)\n",
    "        v[0] = v[0] + norm_v\n",
    "        v = v / np.linalg.norm(v)\n",
    "        v = v.reshape(-1,1)\n",
    "        \n",
    "        print(f'v: {v}')\n",
    "        H[k:, k:] = H[k:, k:] - 2 * v @ (v.T @ H[k:, k:])\n",
    "        print(f'H: {H}')\n",
    "        H[k, k] = -norm_v\n",
    "        H[k+1:, k] = 0\n",
    "        print(f'H: {H}')\n",
    "        #H[:, k:] = H[:, k:] - 2 * (H[:, k:] @ v) @ v.T\n",
    "        #print(f'H: {H}')                                             \n",
    "        Q[k:] = Q[k:] - 2 * v @ (v.T @ Q[k:])\n",
    "        \n",
    "    return Q, H"
   ]
  },
  {
   "cell_type": "code",
   "execution_count": 40,
   "metadata": {},
   "outputs": [],
   "source": [
    "A = np.random.rand(4,4)"
   ]
  },
  {
   "cell_type": "code",
   "execution_count": 41,
   "metadata": {},
   "outputs": [
    {
     "name": "stdout",
     "output_type": "stream",
     "text": [
      "v: [[0.8518]\n",
      " [0.3087]\n",
      " [0.3939]\n",
      " [0.155 ]]\n",
      "H: [[-1.523  -0.4554 -1.1025 -0.7493]\n",
      " [-0.552   0.1703  0.2035 -0.5041]\n",
      " [-0.7044 -0.1698  0.2786 -0.3066]\n",
      " [-0.2771  0.8088  0.6177  0.5647]]\n",
      "H: [[-1.0496 -0.4554 -1.1025 -0.7493]\n",
      " [ 0.      0.1703  0.2035 -0.5041]\n",
      " [ 0.     -0.1698  0.2786 -0.3066]\n",
      " [ 0.      0.8088  0.6177  0.5647]]\n",
      "v: [[ 0.7752]\n",
      " [-0.1298]\n",
      " [ 0.6183]]\n",
      "H: [[-1.0496 -0.4554 -1.1025 -0.7493]\n",
      " [ 0.     -1.014  -0.5771 -0.5012]\n",
      " [ 0.      0.1698  0.4093 -0.3071]\n",
      " [ 0.     -0.8088 -0.0049  0.567 ]]\n",
      "H: [[-1.0496 -0.4554 -1.1025 -0.7493]\n",
      " [ 0.     -0.8437 -0.5771 -0.5012]\n",
      " [ 0.      0.      0.4093 -0.3071]\n",
      " [ 0.      0.     -0.0049  0.567 ]]\n"
     ]
    }
   ],
   "source": [
    "Q,R = householder(A)"
   ]
  },
  {
   "cell_type": "code",
   "execution_count": 42,
   "metadata": {},
   "outputs": [
    {
     "data": {
      "text/plain": [
       "False"
      ]
     },
     "execution_count": 42,
     "metadata": {},
     "output_type": "execute_result"
    }
   ],
   "source": [
    "np.allclose(Q@A@Q.T, R)"
   ]
  },
  {
   "cell_type": "code",
   "execution_count": 43,
   "metadata": {},
   "outputs": [
    {
     "data": {
      "text/plain": [
       "False"
      ]
     },
     "execution_count": 43,
     "metadata": {},
     "output_type": "execute_result"
    }
   ],
   "source": [
    "np.allclose(Q@R,A)"
   ]
  },
  {
   "cell_type": "code",
   "execution_count": 44,
   "metadata": {},
   "outputs": [
    {
     "data": {
      "text/plain": [
       "array([[-1.0496, -0.4554, -1.1025, -0.7493],\n",
       "       [ 0.    , -0.8437, -0.5771, -0.5012],\n",
       "       [ 0.    ,  0.    ,  0.4093, -0.3071],\n",
       "       [ 0.    ,  0.    , -0.0049,  0.567 ]])"
      ]
     },
     "execution_count": 44,
     "metadata": {},
     "output_type": "execute_result"
    }
   ],
   "source": [
    "R"
   ]
  },
  {
   "cell_type": "code",
   "execution_count": 45,
   "metadata": {},
   "outputs": [
    {
     "data": {
      "text/plain": [
       "array([[ 1.6505,  0.1711,  0.2053, -0.5389],\n",
       "       [ 0.9634,  0.3857, -0.279 ,  0.3762],\n",
       "       [-0.1936,  0.4067,  0.2399,  0.038 ],\n",
       "       [-0.1464, -0.5218,  0.0059,  0.1665]])"
      ]
     },
     "execution_count": 45,
     "metadata": {},
     "output_type": "execute_result"
    }
   ],
   "source": [
    "Q@A@Q.T"
   ]
  },
  {
   "cell_type": "code",
   "execution_count": 46,
   "metadata": {},
   "outputs": [
    {
     "data": {
      "text/plain": [
       "False"
      ]
     },
     "execution_count": 46,
     "metadata": {},
     "output_type": "execute_result"
    }
   ],
   "source": [
    "np.allclose(la.qr(A)[1],R)"
   ]
  },
  {
   "cell_type": "code",
   "execution_count": 47,
   "metadata": {},
   "outputs": [
    {
     "data": {
      "text/plain": [
       "array([[ 1., -0., -0., -0.],\n",
       "       [-0.,  1.,  0., -0.],\n",
       "       [-0.,  0.,  1.,  0.],\n",
       "       [-0., -0.,  0.,  1.]])"
      ]
     },
     "execution_count": 47,
     "metadata": {},
     "output_type": "execute_result"
    }
   ],
   "source": [
    "Q@Q.T"
   ]
  },
  {
   "cell_type": "code",
   "execution_count": 16,
   "metadata": {},
   "outputs": [
    {
     "name": "stdout",
     "output_type": "stream",
     "text": [
      "[3.23236234 2.32564168 2.42584022 1.42135039]\n",
      "[[ 6.46472468  4.65128336  4.85168044  2.84270077]\n",
      " [ 9.69708701  6.97692505  7.27752066  4.26405116]\n",
      " [12.92944935  9.30256673  9.70336088  5.68540154]]\n"
     ]
    }
   ],
   "source": [
    "a = np.array([1,2,3])\n",
    "b = np.random.rand(3,4)\n",
    "aa = a @ b\n",
    "print(aa)\n",
    "c = np.array([2,3,4])\n",
    "print(np.outer(c,aa))"
   ]
  },
  {
   "cell_type": "code",
   "execution_count": 14,
   "metadata": {},
   "outputs": [
    {
     "data": {
      "text/plain": [
       "array([1, 2, 3])"
      ]
     },
     "execution_count": 14,
     "metadata": {},
     "output_type": "execute_result"
    }
   ],
   "source": [
    "a"
   ]
  },
  {
   "cell_type": "code",
   "execution_count": 19,
   "metadata": {},
   "outputs": [
    {
     "data": {
      "text/plain": [
       "array([[0.97380544, 0.10091618, 0.62358255, 0.23136363],\n",
       "       [0.64351942, 0.22342711, 0.37959746, 0.08393342],\n",
       "       [0.32383935, 0.59262376, 0.34768758, 0.34070664]])"
      ]
     },
     "execution_count": 19,
     "metadata": {},
     "output_type": "execute_result"
    }
   ],
   "source": [
    "b"
   ]
  },
  {
   "cell_type": "code",
   "execution_count": 18,
   "metadata": {},
   "outputs": [
    {
     "data": {
      "text/plain": [
       "array([[0.64351942, 0.22342711, 0.37959746, 0.08393342],\n",
       "       [0.32383935, 0.59262376, 0.34768758, 0.34070664]])"
      ]
     },
     "execution_count": 18,
     "metadata": {},
     "output_type": "execute_result"
    }
   ],
   "source": [
    "b[1:]\n"
   ]
  },
  {
   "cell_type": "code",
   "execution_count": 41,
   "metadata": {},
   "outputs": [
    {
     "data": {
      "text/plain": [
       "array([[0.4274, 0.567 , 0.8856],\n",
       "       [0.5377, 0.6529, 0.8275],\n",
       "       [0.3602, 0.4611, 0.2433]])"
      ]
     },
     "execution_count": 41,
     "metadata": {},
     "output_type": "execute_result"
    }
   ],
   "source": [
    "A = np.random.rand(3,3)\n",
    "A"
   ]
  },
  {
   "cell_type": "code",
   "execution_count": 47,
   "metadata": {},
   "outputs": [
    {
     "name": "stdout",
     "output_type": "stream",
     "text": [
      "v: [0.4274 0.5377 0.3602]\n",
      "v_norm: [0.8807 0.3936 0.2637]\n",
      "[[1.2031 0.567  0.8856]\n",
      " [0.5377 0.6529 0.8275]\n",
      " [0.3602 0.4611 0.2433]]\n",
      "2vv.T: [[2.4061 1.5462 2.0604]\n",
      " [1.0754 0.6911 0.9209]\n",
      " [0.7203 0.4629 0.6168]]\n",
      "[[-0.7756 -0.9793 -1.1748]\n",
      " [ 0.     -0.0382 -0.0934]\n",
      " [ 0.     -0.0018 -0.3735]]\n"
     ]
    }
   ],
   "source": [
    "m, n = A.shape\n",
    "R = np.copy(A)\n",
    "Q = np.eye(m)\n",
    "#for k in range(n):\n",
    "k = 0\n",
    "v = R[k:,k]\n",
    "print(f'v: {v}')\n",
    "v_norm = np.sign(v[0]) * la.norm(v)\n",
    "v[0] = v[0] + v_norm\n",
    "v = v / la.norm(v)\n",
    "print(f'v_norm: {v}')\n",
    "print(R[k:,k:])\n",
    "print(f'2vv.T: {2*np.outer(v,(v @ R[k:,k:]))}')\n",
    "R[k:,k:] = R[k:,k:] - 2*np.outer(v,(v @ R[k:,k:]))\n",
    "R[k,k] = -v_norm\n",
    "R[k+1:,k] = 0\n",
    "Q[k:] = Q[k:] - 2*np.outer(v,(v @ Q[k:]))\n",
    "#return Q.T, R\n",
    "print(R)"
   ]
  },
  {
   "cell_type": "code",
   "execution_count": 98,
   "metadata": {},
   "outputs": [],
   "source": [
    "def qr_householder(A):\n",
    "    \n",
    "    n, m = A.shape\n",
    "    o = np.min([n,m])\n",
    "    if n > m: \n",
    "        o += 1\n",
    "    R = np.copy(A)\n",
    "    Q = np.identity(n)\n",
    "    I = np.identity(n) # matice s vektory báze\n",
    "\n",
    "    for i in range(o-2):\n",
    "        x = R[i+1:,i].reshape(n-i-1,1) \n",
    "        e = I[i+1:,i].reshape(n-i-1,1) \n",
    "\n",
    "        q = x + (np.sign(x.item(0)) * np.linalg.norm(x)) * e\n",
    "        q = q / np.linalg.norm(q)\n",
    "\n",
    "        H_q = np.identity(n-i-1) - 2 * q @ q.T\n",
    "        H_q = np.pad(H_q,(i,0),'constant')\n",
    "\n",
    "        Q_i = np.array([[float(k == l) if k < i else 0 for k in range(1,n)] for l in range(1,n)]) + H_q\n",
    "\n",
    "        Q = Q_i @ Q\n",
    "        R = Q_i @ R\n",
    "    \n",
    "    return Q.T, R"
   ]
  },
  {
   "cell_type": "code",
   "execution_count": 99,
   "metadata": {},
   "outputs": [
    {
     "data": {
      "text/plain": [
       "array([[0.0406, 0.5517, 0.6923, 0.1954, 0.9147],\n",
       "       [0.4921, 0.2601, 0.1066, 0.7416, 0.268 ],\n",
       "       [0.1247, 0.6053, 0.0502, 0.7599, 0.4438],\n",
       "       [0.0665, 0.0245, 0.1453, 0.6035, 0.485 ],\n",
       "       [0.1468, 0.0246, 0.6011, 0.6597, 0.5569]])"
      ]
     },
     "execution_count": 99,
     "metadata": {},
     "output_type": "execute_result"
    }
   ],
   "source": [
    "A\n"
   ]
  },
  {
   "cell_type": "code",
   "execution_count": 100,
   "metadata": {},
   "outputs": [
    {
     "ename": "ValueError",
     "evalue": "matmul: Input operand 1 has a mismatch in its core dimension 0, with gufunc signature (n?,k),(k,m?)->(n?,m?) (size 5 is different from 4)",
     "output_type": "error",
     "traceback": [
      "\u001b[0;31m---------------------------------------------------------------------------\u001b[0m",
      "\u001b[0;31mValueError\u001b[0m                                Traceback (most recent call last)",
      "\u001b[0;32m<ipython-input-100-bdf198442448>\u001b[0m in \u001b[0;36m<module>\u001b[0;34m\u001b[0m\n\u001b[0;32m----> 1\u001b[0;31m \u001b[0mQ\u001b[0m\u001b[0;34m,\u001b[0m \u001b[0mR\u001b[0m \u001b[0;34m=\u001b[0m \u001b[0mqr_householder\u001b[0m\u001b[0;34m(\u001b[0m\u001b[0mA\u001b[0m\u001b[0;34m)\u001b[0m\u001b[0;34m\u001b[0m\u001b[0m\n\u001b[0m",
      "\u001b[0;32m<ipython-input-98-ef7866194f0d>\u001b[0m in \u001b[0;36mqr_householder\u001b[0;34m(A)\u001b[0m\n\u001b[1;32m     21\u001b[0m         \u001b[0mQ_i\u001b[0m \u001b[0;34m=\u001b[0m \u001b[0mnp\u001b[0m\u001b[0;34m.\u001b[0m\u001b[0marray\u001b[0m\u001b[0;34m(\u001b[0m\u001b[0;34m[\u001b[0m\u001b[0;34m[\u001b[0m\u001b[0mfloat\u001b[0m\u001b[0;34m(\u001b[0m\u001b[0mk\u001b[0m \u001b[0;34m==\u001b[0m \u001b[0ml\u001b[0m\u001b[0;34m)\u001b[0m \u001b[0;32mif\u001b[0m \u001b[0mk\u001b[0m \u001b[0;34m<\u001b[0m \u001b[0mi\u001b[0m \u001b[0;32melse\u001b[0m \u001b[0;36m0\u001b[0m \u001b[0;32mfor\u001b[0m \u001b[0mk\u001b[0m \u001b[0;32min\u001b[0m \u001b[0mrange\u001b[0m\u001b[0;34m(\u001b[0m\u001b[0;36m1\u001b[0m\u001b[0;34m,\u001b[0m\u001b[0mn\u001b[0m\u001b[0;34m)\u001b[0m\u001b[0;34m]\u001b[0m \u001b[0;32mfor\u001b[0m \u001b[0ml\u001b[0m \u001b[0;32min\u001b[0m \u001b[0mrange\u001b[0m\u001b[0;34m(\u001b[0m\u001b[0;36m1\u001b[0m\u001b[0;34m,\u001b[0m\u001b[0mn\u001b[0m\u001b[0;34m)\u001b[0m\u001b[0;34m]\u001b[0m\u001b[0;34m)\u001b[0m \u001b[0;34m+\u001b[0m \u001b[0mH_q\u001b[0m\u001b[0;34m\u001b[0m\u001b[0m\n\u001b[1;32m     22\u001b[0m \u001b[0;34m\u001b[0m\u001b[0m\n\u001b[0;32m---> 23\u001b[0;31m         \u001b[0mQ\u001b[0m \u001b[0;34m=\u001b[0m \u001b[0mQ_i\u001b[0m \u001b[0;34m@\u001b[0m \u001b[0mQ\u001b[0m\u001b[0;34m\u001b[0m\u001b[0m\n\u001b[0m\u001b[1;32m     24\u001b[0m         \u001b[0mR\u001b[0m \u001b[0;34m=\u001b[0m \u001b[0mQ_i\u001b[0m \u001b[0;34m@\u001b[0m \u001b[0mR\u001b[0m\u001b[0;34m\u001b[0m\u001b[0m\n\u001b[1;32m     25\u001b[0m \u001b[0;34m\u001b[0m\u001b[0m\n",
      "\u001b[0;31mValueError\u001b[0m: matmul: Input operand 1 has a mismatch in its core dimension 0, with gufunc signature (n?,k),(k,m?)->(n?,m?) (size 5 is different from 4)"
     ]
    }
   ],
   "source": [
    "Q, R = qr_householder(A)"
   ]
  },
  {
   "cell_type": "code",
   "execution_count": 89,
   "metadata": {},
   "outputs": [
    {
     "data": {
      "text/plain": [
       "array([[ 0.5293, -0.214 , -0.073 , -0.9612, -0.3386],\n",
       "       [-0.6782,  0.3844, -0.2546,  0.8322, -0.7182],\n",
       "       [-0.0448, -0.1821, -0.3343,  0.1088, -0.1988],\n",
       "       [-0.4187,  0.1225,  0.3974,  1.0214, -0.5277],\n",
       "       [ 0.4028, -0.0004, -0.072 , -0.4709, -0.0894]])"
      ]
     },
     "execution_count": 89,
     "metadata": {},
     "output_type": "execute_result"
    }
   ],
   "source": [
    "Q@A@Q.T"
   ]
  },
  {
   "cell_type": "code",
   "execution_count": 90,
   "metadata": {},
   "outputs": [
    {
     "data": {
      "text/plain": [
       "array([[0.0406, 0.5517, 0.6923, 0.1954, 0.9147],\n",
       "       [0.4921, 0.2601, 0.1066, 0.7416, 0.268 ],\n",
       "       [0.1247, 0.6053, 0.0502, 0.7599, 0.4438],\n",
       "       [0.0665, 0.0245, 0.1453, 0.6035, 0.485 ],\n",
       "       [0.1468, 0.0246, 0.6011, 0.6597, 0.5569]])"
      ]
     },
     "execution_count": 90,
     "metadata": {},
     "output_type": "execute_result"
    }
   ],
   "source": [
    "Q@R"
   ]
  },
  {
   "cell_type": "code",
   "execution_count": 38,
   "metadata": {},
   "outputs": [
    {
     "data": {
      "text/plain": [
       "array([[0.6831, 0.2257, 0.3629, 0.2795],\n",
       "       [0.5136, 0.0667, 0.0848, 0.4567],\n",
       "       [0.1598, 0.4041, 0.5397, 0.695 ],\n",
       "       [0.7455, 0.9121, 0.5144, 0.9953]])"
      ]
     },
     "execution_count": 38,
     "metadata": {},
     "output_type": "execute_result"
    }
   ],
   "source": [
    "A"
   ]
  },
  {
   "cell_type": "code",
   "execution_count": 57,
   "metadata": {},
   "outputs": [
    {
     "name": "stdout",
     "output_type": "stream",
     "text": [
      "[[-7. -7. -7. -7.]\n",
      " [-7. -7. -7. -7.]\n",
      " [-7. -7. -7. -7.]\n",
      " [-7. -7. -7. -7.]]\n",
      "[[ 1.  0.  0.  0.]\n",
      " [ 0. -5. -5. -5.]\n",
      " [ 0. -5. -5. -5.]\n",
      " [ 0. -5. -5. -5.]]\n"
     ]
    }
   ],
   "source": [
    "def hessenberg(A):\n",
    "    m, n = A.shape\n",
    "    Q = np.eye(m)\n",
    "    H = A.copy()\n",
    "\n",
    "    for k in range(n-2):\n",
    "        v = H[k+1:, k] #vemu k-tý sloupec, od k+1 prvku\n",
    "        \n",
    "        norm_v = np.sign(v[0])*np.linalg.norm(v)\n",
    "        v[0] = v[0] + norm_v\n",
    "        v = v / np.linalg.norm(v)\n",
    "        v = v.reshape(-1,1)\n",
    "        \n",
    "        H[k+1:, k:] = H[k+1:, k:] - 2 * v @ (v.T @ H[k+1:, k:])\n",
    "        H[k+1, k] = -norm_v\n",
    "        H[k+2:, k] = 0\n",
    "        H[:, k+1:] = H[:, k+1:] - 2 * (H[:, k+1:] @ v) @ v.T\n",
    "                                             \n",
    "        Q[k+1:] = Q[k+1:] - 2 * v @ (v.T @ Q[k+1:])\n",
    "        \n",
    "        \n",
    "        v = H[k, k+1:] #vemu k-tý řádek\n",
    "        \n",
    "        norm_v = np.sign(v[0])*np.linalg.norm(v)\n",
    "        v[0] = v[0] + norm_v\n",
    "        v = v / np.linalg.norm(v)\n",
    "        v = v.reshape(-1,-1)\n",
    "        \n",
    "        H[k+1:, k:] = H[k+1:, k:] - 2 * v @ (v.T @ H[k+1:, k:])\n",
    "        H[k+1, k] = -norm_v\n",
    "        H[k+2:, k] = 0\n",
    "        H[:, k+1:] = H[:, k+1:] - 2 * (H[:, k+1:] @ v) @ v.T\n",
    "                                             \n",
    "        Q[k+1:] = Q[k+1:] - 2 * v @ (v.T @ Q[k+1:])\n",
    "        \n",
    "        \n",
    "        \n",
    "        \n",
    "        \n",
    "        \n",
    "        \n",
    "        \n",
    "    return Q, H"
   ]
  },
  {
   "cell_type": "code",
   "execution_count": 64,
   "metadata": {},
   "outputs": [],
   "source": [
    "v = np.array([1,2,3])"
   ]
  },
  {
   "cell_type": "code",
   "execution_count": 67,
   "metadata": {},
   "outputs": [
    {
     "data": {
      "text/plain": [
       "array([[1, 2, 3]])"
      ]
     },
     "execution_count": 67,
     "metadata": {},
     "output_type": "execute_result"
    }
   ],
   "source": [
    "v.reshape(1,-1)"
   ]
  },
  {
   "cell_type": "code",
   "execution_count": null,
   "metadata": {},
   "outputs": [],
   "source": []
  }
 ],
 "metadata": {
  "kernelspec": {
   "display_name": "Python 3",
   "language": "python",
   "name": "python3"
  },
  "language_info": {
   "codemirror_mode": {
    "name": "ipython",
    "version": 3
   },
   "file_extension": ".py",
   "mimetype": "text/x-python",
   "name": "python",
   "nbconvert_exporter": "python",
   "pygments_lexer": "ipython3",
   "version": "3.6.4"
  }
 },
 "nbformat": 4,
 "nbformat_minor": 4
}
