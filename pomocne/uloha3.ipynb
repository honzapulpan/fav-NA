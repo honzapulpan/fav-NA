{
 "cells": [
  {
   "cell_type": "code",
   "execution_count": 1,
   "metadata": {},
   "outputs": [],
   "source": [
    "import numpy as np\n",
    "import numpy.linalg as la\n",
    "np.set_printoptions(precision=4, suppress=True)\n",
    "from rogues import lauchli # Python and Numpy port of Prof. Nicholas Higham's matlab test matrices"
   ]
  },
  {
   "cell_type": "code",
   "execution_count": 36,
   "metadata": {},
   "outputs": [],
   "source": [
    "def bidiagonal(A):\n",
    "    m, n = A.shape\n",
    "    assert m == n, 'Not a square matrix.'\n",
    "\n",
    "    U = np.eye(m)\n",
    "    V = np.eye(m)\n",
    "    B = A.copy()\n",
    "\n",
    "    for k in range(n-1):\n",
    "        v = np.copy(B[k:, k]) #vemu k-tý sloupec, od k+1 prvku\n",
    "        v[0] = v[0] + np.sign(v[0])*la.norm(v)\n",
    "        v = (v / la.norm(v)).reshape(-1,1)\n",
    "        \n",
    "        B[k:, k:] = B[k:, k:] - 2 * v @ (v.T @ B[k:, k:])     \n",
    "        U[k:] = U[k:] - 2 * v @ (v.T @ U[k:])\n",
    "        \n",
    "        v = np.copy(B[k, k+1:]) #vemu k-tý sloupec, od k+1 prvku\n",
    "        v[0] = v[0] + np.sign(v[0])*la.norm(v)\n",
    "        v = (v / la.norm(v)).reshape(-1,1)\n",
    "\n",
    "        B[:, k+1:] = B[:, k+1:] - 2 * (B[:, k+1:] @ v) @ v.T                                             \n",
    "        V[k+1:] = V[k+1:] - 2 * v @ (v.T @ V[k+1:])\n",
    "        \n",
    "    return U.T, V.T, B"
   ]
  },
  {
   "cell_type": "code",
   "execution_count": 38,
   "metadata": {},
   "outputs": [
    {
     "name": "stdout",
     "output_type": "stream",
     "text": [
      "[[-1.952   4.7185 -0.      0.     -0.     -0.      0.      0.      0.\n",
      "   0.    ]\n",
      " [-0.      2.2061  1.2061  0.      0.      0.      0.      0.      0.\n",
      "   0.    ]\n",
      " [-0.      0.     -0.7883 -0.7852  0.      0.     -0.     -0.      0.\n",
      "   0.    ]\n",
      " [-0.      0.      0.     -0.6192 -0.8877  0.      0.     -0.     -0.\n",
      "  -0.    ]\n",
      " [-0.     -0.      0.     -0.      0.7166 -0.6286  0.      0.      0.\n",
      "   0.    ]\n",
      " [-0.     -0.      0.      0.      0.     -0.2878  0.3653  0.      0.\n",
      "   0.    ]\n",
      " [-0.     -0.      0.      0.      0.      0.      0.4068  0.1773  0.\n",
      "   0.    ]\n",
      " [-0.     -0.     -0.     -0.      0.      0.      0.     -0.5236  0.3101\n",
      "  -0.    ]\n",
      " [-0.      0.     -0.     -0.      0.      0.     -0.      0.      0.2543\n",
      "   0.8653]\n",
      " [ 0.      0.      0.     -0.      0.      0.      0.      0.     -0.\n",
      "   0.2532]]\n"
     ]
    }
   ],
   "source": [
    "A = np.random.rand(10,10)\n",
    "#A = lauchli(20, 1e-7)\n",
    "#A = np.array([[1.,2,3,4],[5,6,7,8],[9,10,11,12],[13,14,15,16]])\n",
    "\n",
    "U, V, B = hessenberg(A)\n",
    "\n",
    "#print(Q)\n",
    "print(B)\n",
    "    "
   ]
  },
  {
   "cell_type": "code",
   "execution_count": 29,
   "metadata": {},
   "outputs": [
    {
     "name": "stdout",
     "output_type": "stream",
     "text": [
      "[[-1.986   4.2618  0.      0.     -0.      0.      0.     -0.      0.\n",
      "   0.    ]\n",
      " [ 0.      2.0222  1.035   0.     -0.     -0.     -0.     -0.      0.\n",
      "   0.    ]\n",
      " [-0.      0.     -1.0279  0.6798 -0.      0.      0.      0.     -0.\n",
      "  -0.    ]\n",
      " [ 0.      0.      0.     -0.8679  0.3724 -0.      0.     -0.     -0.\n",
      "  -0.    ]\n",
      " [ 0.     -0.      0.      0.     -0.7422 -0.5134  0.     -0.     -0.\n",
      "  -0.    ]\n",
      " [ 0.     -0.      0.      0.     -0.      0.6668 -0.7858  0.      0.\n",
      "  -0.    ]\n",
      " [ 0.      0.      0.      0.     -0.     -0.     -0.4005  0.5651 -0.\n",
      "   0.    ]\n",
      " [-0.      0.     -0.     -0.     -0.      0.      0.      0.4881  0.2258\n",
      "  -0.    ]\n",
      " [-0.     -0.      0.     -0.      0.      0.     -0.     -0.     -0.308\n",
      "   0.1451]\n",
      " [ 0.     -0.      0.     -0.      0.     -0.      0.     -0.     -0.\n",
      "  -0.3014]]\n"
     ]
    }
   ],
   "source": [
    "print(U.T@A@V)"
   ]
  },
  {
   "cell_type": "code",
   "execution_count": 39,
   "metadata": {},
   "outputs": [
    {
     "data": {
      "text/plain": [
       "True"
      ]
     },
     "execution_count": 39,
     "metadata": {},
     "output_type": "execute_result"
    }
   ],
   "source": [
    "np.allclose(U.T@A@V, B)"
   ]
  },
  {
   "cell_type": "code",
   "execution_count": 60,
   "metadata": {},
   "outputs": [],
   "source": [
    "def hessenberg(A):\n",
    "    m, n = A.shape\n",
    "    H = A.copy() # Transformed matrix so far\n",
    "    Q = np.eye(n) # Orthogonal transform so far\n",
    "    \n",
    "\n",
    "    for j in range(n-2):\n",
    "        v = H[j+1:, j] #vemu j-tý sloupec, od j+1 prvku\n",
    "        \n",
    "        norm_v = np.linalg.norm(v) # vypočtu z něj normu\n",
    "        v[0] = v[0] + np.sign(v[0])*norm_v\n",
    "        v = v / np.linalg.norm(v)\n",
    "        v = v.reshape(-1,1)\n",
    "        \n",
    "        H[j+1:, j+1:] = H[j+1:, j+1:] - 2 * v @ (v.T @ H[j+1:, j+1:])\n",
    "        H[j+1, j] = norm_v\n",
    "        H[j+2:, j] = 0\n",
    "        H[:, j+1:] = H[:, j+1:] - 2 * (H[:, j+1:] @ v) @ v.T\n",
    "                                             \n",
    "        Q[j+1:] = Q[j+1:] - 2 * v @ (v.T @ Q[j+1:])\n",
    "        \n",
    "    return Q, H"
   ]
  },
  {
   "cell_type": "code",
   "execution_count": 124,
   "metadata": {},
   "outputs": [],
   "source": [
    "def hessenberg(A):\n",
    "    _, n = A.shape\n",
    "    H = np.eye(n)\n",
    "    q = np.eye(n)\n",
    "    h = A.copy()\n",
    "    \n",
    "    for i in range(n-2):\n",
    "        x = h[i+1:, i].reshape(-1,1)\n",
    "        u = x.reshape(-1,1)\n",
    "        print(u)\n",
    "        u[0] = x[0] + np.sign(x[0])*np.linalg.norm(x)\n",
    "        hi = np.eye(len(u)) - (2*u@u.T)/(u.T@u)\n",
    "        Hi = H.copy()\n",
    "        Hi[i+1:,i+1:] = hi\n",
    "        print(hi)\n",
    "        h = Hi @ h @ Hi.T\n",
    "        q = Hi @ q\n",
    "    return q, h\n",
    "        "
   ]
  },
  {
   "cell_type": "code",
   "execution_count": 155,
   "metadata": {},
   "outputs": [
    {
     "data": {
      "text/plain": [
       "array([[ 0.2003, -0.7246, -0.6773,  0.0315,  0.1586],\n",
       "       [-0.9893,  1.4046,  1.241 ,  0.3223,  0.2906],\n",
       "       [ 0.    ,  1.0102,  1.0044, -0.0651,  0.6804],\n",
       "       [-0.    ,  0.    ,  0.4258, -0.5512, -0.08  ],\n",
       "       [-0.    ,  0.    ,  0.    , -0.5395, -0.2388]])"
      ]
     },
     "execution_count": 155,
     "metadata": {},
     "output_type": "execute_result"
    }
   ],
   "source": [
    "Q@A@Q.T"
   ]
  },
  {
   "cell_type": "code",
   "execution_count": 156,
   "metadata": {},
   "outputs": [
    {
     "data": {
      "text/plain": [
       "array([[ 0.2003, -0.7246, -0.6773,  0.0315,  0.1586],\n",
       "       [-0.9893,  1.4046,  1.241 ,  0.3223,  0.2906],\n",
       "       [ 0.    ,  1.0102,  1.0044, -0.0651,  0.6804],\n",
       "       [ 0.    ,  0.    ,  0.4258, -0.5512, -0.08  ],\n",
       "       [ 0.    ,  0.    ,  0.    , -0.5395, -0.2388]])"
      ]
     },
     "execution_count": 156,
     "metadata": {},
     "output_type": "execute_result"
    }
   ],
   "source": [
    "H"
   ]
  },
  {
   "cell_type": "code",
   "execution_count": 105,
   "metadata": {},
   "outputs": [
    {
     "data": {
      "text/plain": [
       "array([[ 1.,  0.,  0.,  0.,  0.],\n",
       "       [ 0.,  1.,  0., -0.,  0.],\n",
       "       [ 0.,  0.,  1.,  0., -0.],\n",
       "       [ 0., -0.,  0.,  1., -0.],\n",
       "       [ 0.,  0., -0., -0.,  1.]])"
      ]
     },
     "execution_count": 105,
     "metadata": {},
     "output_type": "execute_result"
    }
   ],
   "source": [
    "Q@Q.T"
   ]
  },
  {
   "cell_type": "code",
   "execution_count": 84,
   "metadata": {},
   "outputs": [],
   "source": [
    "A = np.random.rand(5,5)"
   ]
  },
  {
   "cell_type": "code",
   "execution_count": 85,
   "metadata": {},
   "outputs": [
    {
     "data": {
      "text/plain": [
       "array([[0.6961, 0.6668, 0.5094, 0.0731, 0.8115],\n",
       "       [0.3627, 0.144 , 0.0354, 0.1618, 0.3231],\n",
       "       [0.0531, 0.3915, 0.0983, 0.6933, 0.391 ],\n",
       "       [0.9674, 0.6627, 0.2019, 0.7462, 0.1849],\n",
       "       [0.7137, 0.7391, 0.1475, 0.128 , 0.1285]])"
      ]
     },
     "execution_count": 85,
     "metadata": {},
     "output_type": "execute_result"
    }
   ],
   "source": [
    "A"
   ]
  },
  {
   "cell_type": "code",
   "execution_count": 86,
   "metadata": {},
   "outputs": [
    {
     "data": {
      "text/plain": [
       "array([[1., 0., 0., 0., 0.],\n",
       "       [0., 1., 0., 0., 0.],\n",
       "       [0., 0., 1., 0., 0.],\n",
       "       [0., 0., 0., 1., 0.],\n",
       "       [0., 0., 0., 0., 1.]])"
      ]
     },
     "execution_count": 86,
     "metadata": {},
     "output_type": "execute_result"
    }
   ],
   "source": [
    "H = A.copy()\n",
    "Q = np.eye(A.shape[0])\n",
    "Q"
   ]
  },
  {
   "cell_type": "code",
   "execution_count": 88,
   "metadata": {},
   "outputs": [
    {
     "name": "stdout",
     "output_type": "stream",
     "text": [
      "[0.3627 0.0531 0.9674 0.7137]\n",
      "[[0.8027]\n",
      " [0.0263]\n",
      " [0.4795]\n",
      " [0.3537]]\n",
      "[[-0.2886 -0.0422 -0.7697 -0.5679]\n",
      " [-0.0422  0.9986 -0.0252 -0.0186]\n",
      " [-0.7697 -0.0252  0.5402 -0.3392]\n",
      " [-0.5679 -0.0186 -0.3392  0.7498]]\n",
      "[-1.2568  0.      0.     -0.    ]\n"
     ]
    }
   ],
   "source": [
    "x = H[1:,0]\n",
    "print(x)\n",
    "q = x + np.sign(x[0])*np.linalg.norm(x)*np.array([1,0,0,0])\n",
    "q = q/np.linalg.norm(q)\n",
    "q = q.reshape(-1,1)\n",
    "print(q)\n",
    "Hi = np.eye(4) - 2*q@q.T\n",
    "print(Hi)\n",
    "Hf = "
   ]
  },
  {
   "cell_type": "code",
   "execution_count": 37,
   "metadata": {},
   "outputs": [],
   "source": [
    "def bidig(A):\n",
    "    m, n = A.shape\n",
    "    U = np.eye(m) \n",
    "    V = np.eye(n) \n",
    "    \n",
    "    for k in range(n):\n",
    "        x = np.copy(A[k:, k])\n",
    "        v = A[k:, k] \n",
    "        v[0] = 1.\n",
    "        \n",
    "        norm_v = np.linalg.norm(x) # vypočtu z něj normu\n",
    "        print(f'norm: {norm_v}')\n",
    "        v[0] = x[0] + np.sign(x[0])*norm_v\n",
    "        \n",
    "        \n",
    "        #v[0] = -np.inner(x[1:],x[1:])/(x[0]+norm_v)\n",
    "        \n",
    "        v = v / np.linalg.norm(v)\n",
    "        #v = v.reshape(-1,1)\n",
    "        \n",
    "        print(f'v:{v}')"
   ]
  },
  {
   "cell_type": "code",
   "execution_count": 38,
   "metadata": {},
   "outputs": [
    {
     "data": {
      "text/plain": [
       "array([[ 1.,  2.,  3.],\n",
       "       [ 4.,  5.,  6.],\n",
       "       [ 7.,  8.,  9.],\n",
       "       [10., 11., 12.]])"
      ]
     },
     "execution_count": 38,
     "metadata": {},
     "output_type": "execute_result"
    }
   ],
   "source": [
    "A = np.arange(1,13.0).reshape(4,3)\n",
    "A"
   ]
  },
  {
   "cell_type": "code",
   "execution_count": 39,
   "metadata": {},
   "outputs": [
    {
     "name": "stdout",
     "output_type": "stream",
     "text": [
      "norm: 12.884098726725126\n",
      "v:[0.734  0.2115 0.3701 0.5287]\n",
      "norm: 13.638181696985855\n",
      "v:[0.7326 0.4004 0.5505]\n",
      "norm: 12.041594578792296\n",
      "v:[0.7359 0.6771]\n"
     ]
    }
   ],
   "source": [
    "bidig(A)"
   ]
  },
  {
   "cell_type": "code",
   "execution_count": 1,
   "metadata": {},
   "outputs": [],
   "source": [
    "  \n",
    "\n",
    "    for j in range(n-2):\n",
    "        v = H[j+1:, j] #vemu j-tý sloupec, od j+1 prvku\n",
    "        \n",
    "        norm_v = np.linalg.norm(v) # vypočtu z něj normu\n",
    "        v[0] = v[0] + np.sign(v[0])*norm_v\n",
    "        v = v / np.linalg.norm(v)\n",
    "        v = v.reshape(-1,1)\n",
    "        \n",
    "        H[j+1:, j+1:] = H[j+1:, j+1:] - 2 * v @ (v.T @ H[j+1:, j+1:])\n",
    "        H[j+1, j] = norm_v\n",
    "        H[j+2:, j] = 0\n",
    "        H[:, j+1:] = H[:, j+1:] - 2 * (H[:, j+1:] @ v) @ v.T\n",
    "                                             \n",
    "        Q[j+1:] = Q[j+1:] - 2 * v @ (v.T @ Q[j+1:])\n",
    "        \n",
    "    return Q, H"
   ]
  },
  {
   "cell_type": "code",
   "execution_count": 258,
   "metadata": {},
   "outputs": [],
   "source": [
    "def hessenberg(A):\n",
    "    m, n = A.shape\n",
    "    Q = np.eye(m)\n",
    "    H = A.copy()\n",
    "    S = np.eye(m)\n",
    "\n",
    "    for k in range(n-2):\n",
    "        v = np.copy(H[k+1:, k]) # k-tý sloupec, od k+1 prvku\n",
    "        print(v)\n",
    "        norm_v = np.sign(v[0])*np.linalg.norm(v)\n",
    "        v[0] = v[0] + norm_v\n",
    "        v = v / np.linalg.norm(v)\n",
    "        v = v.reshape(-1,1)\n",
    "        print(f'v_norm: {la.norm(v)}')\n",
    "        print(f'v: {v}')\n",
    "       \n",
    "        #H[k+1:, k:] = H[k+1:, k:] - 2 * (v @ (v.T @ H[k+1:, k:])) # nasobeni zleva\n",
    "        #H[k+1:, k:] = H[k+1:, k:] - 2 * (np.matmul(v,(np.matmul(v.T,H[k+1:, k:])))) # nasobeni zleva\n",
    "        #print(f'H:\\n{H}')\n",
    "        #H[k+1, k] = -norm_v\n",
    "        #H[k+2:, k] = 0\n",
    "        #H[:, k+1:] = H[:, k+1:] - 2 * (H[:, k+1:] @ v) @ v.T # násobení zprava\n",
    "                                             \n",
    "        Q[k+1:] = Q[k+1:] - 2 * v @ (v.T @ Q[k+1:])\n",
    "        S = np.eye(m)\n",
    "        S[k+1:,k+1:] = S[k+1:,k+1:] - 2* v @ v.T / (v.T @ v)\n",
    "        \n",
    "        #print(f'Q{k}:\\n{Q}')\n",
    "        #print(f'Q@Q.T:\\n{Q@Q.T}')\n",
    "        #print(f'S:\\n{S}')\n",
    "        #print(f'S@H:\\n{S@H}')\n",
    "        H = np.copy(S @ H) \n",
    "        #H[k+1, k] = -norm_v\n",
    "        #H[k+2:, k] = 0\n",
    "        H = np.copy(H @ S.T)\n",
    "        #print(f'H{k}:\\n {H}')        \n",
    "        \n",
    "    return Q, H"
   ]
  },
  {
   "cell_type": "code",
   "execution_count": 259,
   "metadata": {},
   "outputs": [
    {
     "data": {
      "text/plain": [
       "array([[ 1.,  2.,  3.,  4.],\n",
       "       [ 5.,  6.,  7.,  8.],\n",
       "       [ 9., 10., 11., 12.],\n",
       "       [13., 14., 15., 16.]])"
      ]
     },
     "execution_count": 259,
     "metadata": {},
     "output_type": "execute_result"
    }
   ],
   "source": [
    "A = np.arange(1,17.0).reshape(4,4)\n",
    "#A = np.random.rand(5,5)\n",
    "A"
   ]
  },
  {
   "cell_type": "code",
   "execution_count": 260,
   "metadata": {},
   "outputs": [
    {
     "name": "stdout",
     "output_type": "stream",
     "text": [
      "[ 5.  9. 13.]\n",
      "v_norm: 1.0\n",
      "v: [[0.8067]\n",
      " [0.3364]\n",
      " [0.4859]]\n",
      "[0.3586 2.1797]\n",
      "v_norm: 1.0\n",
      "v: [[0.7623]\n",
      " [0.6472]]\n"
     ]
    }
   ],
   "source": [
    "Q,H = hessenberg(A)"
   ]
  },
  {
   "cell_type": "code",
   "execution_count": 261,
   "metadata": {},
   "outputs": [
    {
     "data": {
      "text/plain": [
       "array([[ 1.    ,  0.    ,  0.    ,  0.    ],\n",
       "       [ 0.    , -0.3015, -0.5427, -0.7839],\n",
       "       [ 0.    ,  0.8616,  0.1969, -0.4677],\n",
       "       [ 0.    ,  0.4082, -0.8165,  0.4082]])"
      ]
     },
     "execution_count": 261,
     "metadata": {},
     "output_type": "execute_result"
    }
   ],
   "source": [
    "Q"
   ]
  },
  {
   "cell_type": "code",
   "execution_count": 262,
   "metadata": {},
   "outputs": [
    {
     "data": {
      "text/plain": [
       "array([[  1.    ,  -5.3669,   0.4431,   0.    ],\n",
       "       [-16.5831,  33.0873,  -9.5575,  -0.    ],\n",
       "       [ -0.    ,  -2.209 ,  -0.0873,  -0.    ],\n",
       "       [ -0.    ,  -0.    ,  -0.    ,  -0.    ]])"
      ]
     },
     "execution_count": 262,
     "metadata": {},
     "output_type": "execute_result"
    }
   ],
   "source": [
    "H"
   ]
  },
  {
   "cell_type": "code",
   "execution_count": 263,
   "metadata": {},
   "outputs": [
    {
     "data": {
      "text/plain": [
       "array([[  1.    ,  -5.3669,   0.4431,   0.    ],\n",
       "       [-16.5831,  33.0873,  -9.5575,  -0.    ],\n",
       "       [ -0.    ,  -2.209 ,  -0.0873,  -0.    ],\n",
       "       [ -0.    ,  -0.    ,  -0.    ,  -0.    ]])"
      ]
     },
     "execution_count": 263,
     "metadata": {},
     "output_type": "execute_result"
    }
   ],
   "source": [
    "Q@A@Q.T"
   ]
  },
  {
   "cell_type": "code",
   "execution_count": 241,
   "metadata": {},
   "outputs": [
    {
     "data": {
      "text/plain": [
       "array([[ 1.,  0.,  0.,  0.,  0.],\n",
       "       [ 0.,  1., -0.,  0.,  0.],\n",
       "       [ 0., -0.,  1.,  0., -0.],\n",
       "       [ 0.,  0.,  0.,  1.,  0.],\n",
       "       [ 0.,  0., -0.,  0.,  1.]])"
      ]
     },
     "execution_count": 241,
     "metadata": {},
     "output_type": "execute_result"
    }
   ],
   "source": [
    "Q@Q.T"
   ]
  },
  {
   "cell_type": "code",
   "execution_count": null,
   "metadata": {},
   "outputs": [],
   "source": []
  }
 ],
 "metadata": {
  "kernelspec": {
   "display_name": "Python 3",
   "language": "python",
   "name": "python3"
  },
  "language_info": {
   "codemirror_mode": {
    "name": "ipython",
    "version": 3
   },
   "file_extension": ".py",
   "mimetype": "text/x-python",
   "name": "python",
   "nbconvert_exporter": "python",
   "pygments_lexer": "ipython3",
   "version": "3.6.4"
  }
 },
 "nbformat": 4,
 "nbformat_minor": 4
}
