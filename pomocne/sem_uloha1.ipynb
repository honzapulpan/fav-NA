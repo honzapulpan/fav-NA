{
 "cells": [
  {
   "cell_type": "code",
   "execution_count": null,
   "metadata": {},
   "outputs": [],
   "source": [
    "import numpy as np\n",
    "import scipy as sp\n",
    "\n",
    "#householderova reflexe\n",
    "#vstup: vektor a\n",
    "#výstup: vektor u a v (nevim co je ???)\n",
    "def housegen(a):\n",
    "    u = a\n",
    "    v = np.linalg.norm(a)\n",
    "    if v == 0:\n",
    "        u[0] = np.sqrt(2)\n",
    "        return u, v\n",
    "    if u[0] != 0:\n",
    "        ro = u[0]"
   ]
  },
  {
   "cell_type": "code",
   "execution_count": 28,
   "metadata": {},
   "outputs": [],
   "source": [
    "import numpy as np\n",
    "\n",
    "def hessenberg_reduce(A):\n",
    "    n, m = A.shape\n",
    "    H = A.copy() # Transformed matrix so far\n",
    "    Q = np.eye(n) # Orthogonal transform so far\n",
    "    \n",
    "\n",
    "    for j in range(n-2):\n",
    "        # Find H = I - beta*u*u' to put zeros below R[j,j]\n",
    "        x = H[j+1:, j] #vemu j-tý sloupec\n",
    "        normx = np.linalg.norm(x) # vypočtu z něj normu\n",
    "        ro = -np.sign(x[0]) # ro = -1/1 podle toho, zda je x[0] kladné nebo záporné\n",
    "        u1 = x[0] - ro * normx # u1 = první prvek j-tého sloupce od kterého odečtu normu(oznaménkovanou)\n",
    "        u = x / u1 # do u uložim první sloupec, který vydělím u1\n",
    "        u[0] = 1 # první prvek u ještě nasatvím na 1\n",
    "        beta = -ro * u1 / normx # beta nevim co \n",
    "\n",
    "        H[j+1:, :] = H[j+1:, :] - beta * np.outer(u, u).dot(H[j+1:, :])\n",
    "        Q[:, j+1:] = Q[:, j+1:] - beta * Q[:, j+1:].dot(np.outer(u, u))\n",
    "        \n",
    "    return Q, H"
   ]
  },
  {
   "cell_type": "code",
   "execution_count": 29,
   "metadata": {},
   "outputs": [],
   "source": [
    "A = np.random.rand(5,5)"
   ]
  },
  {
   "cell_type": "code",
   "execution_count": 30,
   "metadata": {},
   "outputs": [],
   "source": [
    "Q,H = hessenberg_reduce(A)"
   ]
  },
  {
   "cell_type": "code",
   "execution_count": 80,
   "metadata": {},
   "outputs": [
    {
     "name": "stdout",
     "output_type": "stream",
     "text": [
      "[[0.67944829 0.48780161 0.36605012 0.69521616 0.44494077]\n",
      " [0.37258175 0.68181531 0.06199577 0.54949625 0.75466711]\n",
      " [0.69451745 0.37326143 0.95182627 0.41641494 0.78526393]\n",
      " [0.90392383 0.38058289 0.88794242 0.76931024 0.93739307]\n",
      " [0.3841206  0.93341526 0.71691721 0.34490743 0.03873032]]\n"
     ]
    }
   ],
   "source": [
    "print(A)"
   ]
  },
  {
   "cell_type": "code",
   "execution_count": 32,
   "metadata": {},
   "outputs": [
    {
     "name": "stdout",
     "output_type": "stream",
     "text": [
      "[[ 1.       0.       0.       0.       0.     ]\n",
      " [ 0.      -0.29587  0.47757 -0.76595 -0.31259]\n",
      " [ 0.      -0.55152 -0.19194  0.38502 -0.71466]\n",
      " [ 0.      -0.71781 -0.37666 -0.18439  0.55577]\n",
      " [ 0.      -0.30503  0.7702   0.48071  0.28752]]\n"
     ]
    }
   ],
   "source": [
    "print(np.around(Q,decimals=5))"
   ]
  },
  {
   "cell_type": "code",
   "execution_count": 33,
   "metadata": {},
   "outputs": [
    {
     "name": "stdout",
     "output_type": "stream",
     "text": [
      "[[ 0.67945  0.4878   0.36605  0.69522  0.44494]\n",
      " [-1.25928 -0.96549 -1.39934 -1.04966 -1.34105]\n",
      " [-0.       0.82953  0.06463  0.15837 -0.11357]\n",
      " [ 0.      -0.       0.49989 -0.23661 -0.42992]\n",
      " [-0.       0.       0.       0.05736 -0.26499]]\n"
     ]
    }
   ],
   "source": [
    "print(np.around(H,decimals=5))"
   ]
  },
  {
   "cell_type": "code",
   "execution_count": 79,
   "metadata": {},
   "outputs": [
    {
     "name": "stdout",
     "output_type": "stream",
     "text": [
      "[[ 0.67945 -0.98096  0.24077  0.03379 -0.17846]\n",
      " [-1.25928  2.21994 -0.84194  0.11451 -0.37477]\n",
      " [ 0.      -0.36317  0.34935  0.63028 -0.23899]\n",
      " [ 0.       0.       0.30185 -0.47107 -0.39179]\n",
      " [ 0.       0.       0.       0.0414   0.34346]]\n"
     ]
    }
   ],
   "source": [
    "from scipy import linalg\n",
    "\n",
    "HS = linalg.hessenberg(A)\n",
    "print(np.around(HS,decimals=5))"
   ]
  },
  {
   "cell_type": "code",
   "execution_count": 78,
   "metadata": {},
   "outputs": [
    {
     "data": {
      "text/plain": [
       "array([[0.67944829, 0.48780161, 0.36605012, 0.69521616, 0.44494077],\n",
       "       [0.37258175, 0.68181531, 0.06199577, 0.54949625, 0.75466711],\n",
       "       [0.69451745, 0.37326143, 0.95182627, 0.41641494, 0.78526393],\n",
       "       [0.90392383, 0.38058289, 0.88794242, 0.76931024, 0.93739307],\n",
       "       [0.3841206 , 0.93341526, 0.71691721, 0.34490743, 0.03873032]])"
      ]
     },
     "execution_count": 78,
     "metadata": {},
     "output_type": "execute_result"
    }
   ],
   "source": [
    "A"
   ]
  },
  {
   "cell_type": "code",
   "execution_count": 40,
   "metadata": {},
   "outputs": [
    {
     "data": {
      "text/plain": [
       "array([[ 6.79448285e-01, -9.80959510e-01,  2.43528873e-01,\n",
       "        -1.46999798e-01,  1.00220199e-01],\n",
       "       [-1.25928494e+00,  2.21993721e+00, -8.30002311e-01,\n",
       "        -2.50363255e-01,  3.32925259e-01],\n",
       "       [ 5.59689034e-17, -3.60110642e-01,  2.36624515e-01,\n",
       "        -6.94297099e-01, -2.50130049e-01],\n",
       "       [ 3.53990222e-17,  2.52845447e-02, -3.37954389e-01,\n",
       "         2.94319110e-02, -6.12360957e-01],\n",
       "       [ 1.00684210e-16,  3.96586095e-02, -2.25704391e-01,\n",
       "        -1.37960645e-01, -4.43114944e-02]])"
      ]
     },
     "execution_count": 40,
     "metadata": {},
     "output_type": "execute_result"
    }
   ],
   "source": [
    "np.matmul(np.matmul(np.transpose(Q),A),Q)"
   ]
  },
  {
   "cell_type": "code",
   "execution_count": 37,
   "metadata": {},
   "outputs": [
    {
     "data": {
      "text/plain": [
       "array([[ 1.        ,  0.        ,  0.        ,  0.        ,  0.        ],\n",
       "       [ 0.        , -0.2958677 ,  0.4775657 , -0.76594974, -0.31259287],\n",
       "       [ 0.        , -0.55151731, -0.19194446,  0.3850234 , -0.71466283],\n",
       "       [ 0.        , -0.71780723, -0.37666284, -0.1843911 ,  0.55576777],\n",
       "       [ 0.        , -0.30503073,  0.7702035 ,  0.48070563,  0.28751508]])"
      ]
     },
     "execution_count": 37,
     "metadata": {},
     "output_type": "execute_result"
    }
   ],
   "source": [
    "Q"
   ]
  },
  {
   "cell_type": "code",
   "execution_count": 39,
   "metadata": {},
   "outputs": [
    {
     "name": "stdout",
     "output_type": "stream",
     "text": [
      "[[ 1.  0.  0.  0.  0.]\n",
      " [ 0.  1. -0.  0.  0.]\n",
      " [ 0. -0.  1.  0. -0.]\n",
      " [ 0.  0.  0.  1.  0.]\n",
      " [ 0.  0. -0.  0.  1.]]\n"
     ]
    }
   ],
   "source": [
    "\n",
    "print(np.around(np.matmul(Q,np.transpose(Q)),decimals=5))"
   ]
  },
  {
   "cell_type": "code",
   "execution_count": 46,
   "metadata": {},
   "outputs": [
    {
     "data": {
      "text/plain": [
       "array([ 2.91331374, -0.67686773,  0.07992681,  0.45779468,  0.34696293])"
      ]
     },
     "execution_count": 46,
     "metadata": {},
     "output_type": "execute_result"
    }
   ],
   "source": [
    "e,_ = np.linalg.eig(HS)\n",
    "e"
   ]
  },
  {
   "cell_type": "code",
   "execution_count": 44,
   "metadata": {},
   "outputs": [
    {
     "data": {
      "text/plain": [
       "array([ 2.91331374, -0.67686773,  0.07992681,  0.45779468,  0.34696293])"
      ]
     },
     "execution_count": 44,
     "metadata": {},
     "output_type": "execute_result"
    }
   ],
   "source": [
    "e,_ = np.linalg.eig(A)\n",
    "e"
   ]
  },
  {
   "cell_type": "code",
   "execution_count": 45,
   "metadata": {},
   "outputs": [
    {
     "data": {
      "text/plain": [
       "array([-0.0822787 +1.00638507j, -0.0822787 -1.00638507j,\n",
       "        0.12610727+0.j        , -0.34228698+0.27846719j,\n",
       "       -0.34228698-0.27846719j])"
      ]
     },
     "execution_count": 45,
     "metadata": {},
     "output_type": "execute_result"
    }
   ],
   "source": [
    "e,_ = np.linalg.eig(H)\n",
    "e"
   ]
  },
  {
   "cell_type": "code",
   "execution_count": 174,
   "metadata": {},
   "outputs": [],
   "source": [
    "#https://byumcl.bitbucket.io/bootcamp2014/_downloads/Lab13v1.pdf\n",
    "\n",
    "import numpy as np\n",
    "\n",
    "def hessenberg_reduce2(A):\n",
    "    m, n = A.shape\n",
    "    H = A.copy() # Transformed matrix so far\n",
    "    Q = np.eye(n) # Orthogonal transform so far\n",
    "    \n",
    "\n",
    "    for j in range(n-2):\n",
    "        # Find H = I - beta*u*u' to put zeros below R[j,j]\n",
    "        vk = H[j+1:, j] #vemu j-tý sloupec, od j+1 prvku\n",
    "        \n",
    "        norm_vk = -np.linalg.norm(vk) # vypočtu z něj normu\n",
    "        vk[0] =vk[0] - np.sign(vk[0])*norm_vk\n",
    "        vk = vk/np.linalg.norm(vk)\n",
    "        \n",
    "        #        H[j+1:, j+1:] = H[j+1:, j+1:] - 2 * vk.reshape(-1,1).dot(vk.reshape(1,-1).dot(H[j+1:, j+1:]))\n",
    "        \n",
    "        v = vk.reshape(-1,1)\n",
    "        H[j+1:, j+1:] = H[j+1:, j+1:] - 2 * v @ (v.T @ H[j+1:, j+1:])\n",
    "        H[j+1, j] = norm_vk\n",
    "        H[j+2:, j] = 0\n",
    "        H[:, j+1:] = H[:, j+1:] - 2 * (H[:, j+1:] @ v) @ v.T\n",
    "                                             \n",
    "        Q[j+1:] = Q[j+1:] - 2 * v @ (v.T @ Q[j+1:])\n",
    "    return Q, H"
   ]
  },
  {
   "cell_type": "code",
   "execution_count": null,
   "metadata": {},
   "outputs": [],
   "source": [
    "# podle fce v matlabu\n",
    "#[[0.67944829 0.48780161 0.36605012 0.69521616 0.44494077]\n",
    "# [0.37258175 0.68181531 0.06199577 0.54949625 0.75466711]\n",
    "# [0.69451745 0.37326143 0.95182627 0.41641494 0.78526393]\n",
    "# [0.90392383 0.38058289 0.88794242 0.76931024 0.93739307]\n",
    "# [0.3841206  0.93341526 0.71691721 0.34490743 0.03873032]]\n",
    "\n",
    "# https://math.stackexchange.com/questions/732924/reducing-a-matrix-to-upper-hessenberg-form-using-householder-transformations-in\n",
    "\n",
    "\n",
    "#### JEŠTĚ ZAZNAMENÁVAT MATICI Q - ale jak???\n",
    "\n",
    "import numpy as np\n",
    "\n",
    "def hessenberg_reduce3(A):\n",
    "    m, n = A.shape\n",
    "    H = A.copy() # Transformed matrix so far\n",
    "    #Q = np.eye(n) # Orthogonal transform so far\n",
    "    \n",
    "\n",
    "    for j in range(n-2):\n",
    "        vk = H[j+1:, j] #vemu j-tý sloupec\n",
    "        norm_vk = -np.linalg.norm(vk) # vypočtu z něj normu\n",
    "        if vk[0] < 0:\n",
    "            norm_vk = -norm_vk\n",
    "        vk[0] = vk[0] - norm_vk\n",
    "        #vk[0] =vk[0] + np.sign(vk[0])*norm_vk\n",
    "        vk = vk/np.linalg.norm(vk)\n",
    "                \n",
    "        H[j+1:, j+1:] = H[j+1:, j+1:] - 2 * vk.reshape(-1,1).dot(vk.reshape(1,-1).dot(H[j+1:, j+1:]))\n",
    "        H[j+1, j] = norm_vk\n",
    "        H[j+2:, j] = 0\n",
    "        H[:, j+1:] = H[:, j+1:] - 2 * (H[:, j+1:].dot(vk.reshape(-1,1)).dot(vk.reshape(1,-1))) \n",
    "        \n",
    "    return H #Q, H"
   ]
  },
  {
   "cell_type": "code",
   "execution_count": 164,
   "metadata": {},
   "outputs": [
    {
     "data": {
      "text/plain": [
       "array([[0.63543148, 0.11091331, 0.65776136, 0.25947158],\n",
       "       [0.58228463, 0.15277821, 0.01688175, 0.13602832],\n",
       "       [0.95371401, 0.81910767, 0.77008896, 0.90681151],\n",
       "       [0.03695714, 0.75844217, 0.24511761, 0.14947362]])"
      ]
     },
     "execution_count": 164,
     "metadata": {},
     "output_type": "execute_result"
    }
   ],
   "source": [
    "A"
   ]
  },
  {
   "cell_type": "code",
   "execution_count": 165,
   "metadata": {},
   "outputs": [],
   "source": [
    "Q2,H2 = hessenberg_reduce2(A)"
   ]
  },
  {
   "cell_type": "code",
   "execution_count": 59,
   "metadata": {},
   "outputs": [
    {
     "data": {
      "text/plain": [
       "array([ 2.91331374, -0.67686773,  0.07992681,  0.45779468,  0.34696293])"
      ]
     },
     "execution_count": 59,
     "metadata": {},
     "output_type": "execute_result"
    }
   ],
   "source": [
    "e"
   ]
  },
  {
   "cell_type": "code",
   "execution_count": 48,
   "metadata": {},
   "outputs": [
    {
     "data": {
      "text/plain": [
       "9.281894407764215"
      ]
     },
     "execution_count": 48,
     "metadata": {},
     "output_type": "execute_result"
    }
   ],
   "source": [
    "np.dot(e,e)"
   ]
  },
  {
   "cell_type": "code",
   "execution_count": 51,
   "metadata": {},
   "outputs": [
    {
     "data": {
      "text/plain": [
       "9.281894407764215"
      ]
     },
     "execution_count": 51,
     "metadata": {},
     "output_type": "execute_result"
    }
   ],
   "source": [
    "np.linalg.norm(e)**2"
   ]
  },
  {
   "cell_type": "code",
   "execution_count": 52,
   "metadata": {},
   "outputs": [
    {
     "data": {
      "text/plain": [
       "array([[ 6.79448285e-01,  4.87801612e-01,  3.66050119e-01,\n",
       "         6.95216159e-01,  4.44940772e-01],\n",
       "       [-1.25928494e+00, -9.65492753e-01, -1.39934447e+00,\n",
       "        -1.04966206e+00, -1.34104974e+00],\n",
       "       [-7.36073902e-18,  8.29534412e-01,  6.46265058e-02,\n",
       "         1.58370348e-01, -1.13574843e-01],\n",
       "       [ 1.15630779e-16, -1.20247905e-16,  4.99887198e-01,\n",
       "        -2.36612036e-01, -4.29921143e-01],\n",
       "       [-4.45284405e-17,  1.00957142e-16,  0.00000000e+00,\n",
       "         5.73590349e-02, -2.64994088e-01]])"
      ]
     },
     "execution_count": 52,
     "metadata": {},
     "output_type": "execute_result"
    }
   ],
   "source": [
    "H\n"
   ]
  },
  {
   "cell_type": "code",
   "execution_count": 53,
   "metadata": {},
   "outputs": [
    {
     "data": {
      "text/plain": [
       "array([[ 0.67944829, -0.98095951,  0.2407682 ,  0.03379268, -0.17846027],\n",
       "       [-1.25928494,  2.21993721, -0.84193756,  0.11450613, -0.37477236],\n",
       "       [ 0.        , -0.36316909,  0.34935187,  0.63027784, -0.23898701],\n",
       "       [ 0.        ,  0.        ,  0.30185458, -0.47106608, -0.39179038],\n",
       "       [ 0.        ,  0.        ,  0.        ,  0.04140215,  0.34345914]])"
      ]
     },
     "execution_count": 53,
     "metadata": {},
     "output_type": "execute_result"
    }
   ],
   "source": [
    "HS"
   ]
  },
  {
   "cell_type": "code",
   "execution_count": 54,
   "metadata": {},
   "outputs": [
    {
     "data": {
      "text/plain": [
       "array([ 2.83181537, -4.38947363,  1.43742367, -0.12996725, -0.34553288])"
      ]
     },
     "execution_count": 54,
     "metadata": {},
     "output_type": "execute_result"
    }
   ],
   "source": [
    "np.matmul(np.transpose(e),HS)"
   ]
  },
  {
   "cell_type": "code",
   "execution_count": 62,
   "metadata": {},
   "outputs": [],
   "source": [
    "aa= np.array([1,2,3])"
   ]
  },
  {
   "cell_type": "code",
   "execution_count": 65,
   "metadata": {},
   "outputs": [
    {
     "data": {
      "text/plain": [
       "array([1, 2, 3])"
      ]
     },
     "execution_count": 65,
     "metadata": {},
     "output_type": "execute_result"
    }
   ],
   "source": [
    "np.transpose(aa)"
   ]
  },
  {
   "cell_type": "code",
   "execution_count": 68,
   "metadata": {},
   "outputs": [],
   "source": [
    "bb = np.eye(3)"
   ]
  },
  {
   "cell_type": "code",
   "execution_count": 69,
   "metadata": {},
   "outputs": [
    {
     "data": {
      "text/plain": [
       "array([[1., 0., 0.],\n",
       "       [0., 1., 0.],\n",
       "       [0., 0., 1.]])"
      ]
     },
     "execution_count": 69,
     "metadata": {},
     "output_type": "execute_result"
    }
   ],
   "source": [
    "bb"
   ]
  },
  {
   "cell_type": "code",
   "execution_count": 71,
   "metadata": {},
   "outputs": [
    {
     "data": {
      "text/plain": [
       "array([1., 2., 3.])"
      ]
     },
     "execution_count": 71,
     "metadata": {},
     "output_type": "execute_result"
    }
   ],
   "source": [
    "np.matmul(aa.T,bb)"
   ]
  },
  {
   "cell_type": "code",
   "execution_count": 72,
   "metadata": {},
   "outputs": [
    {
     "data": {
      "text/plain": [
       "array([1., 2., 3.])"
      ]
     },
     "execution_count": 72,
     "metadata": {},
     "output_type": "execute_result"
    }
   ],
   "source": [
    "aa.dot(bb)"
   ]
  },
  {
   "cell_type": "code",
   "execution_count": 74,
   "metadata": {},
   "outputs": [
    {
     "data": {
      "text/plain": [
       "array([1., 2., 3.])"
      ]
     },
     "execution_count": 74,
     "metadata": {},
     "output_type": "execute_result"
    }
   ],
   "source": [
    "bb.dot(aa.T)"
   ]
  },
  {
   "cell_type": "code",
   "execution_count": 77,
   "metadata": {},
   "outputs": [
    {
     "data": {
      "text/plain": [
       "array([[1., 0., 0.],\n",
       "       [0., 1., 0.],\n",
       "       [0., 0., 1.]])"
      ]
     },
     "execution_count": 77,
     "metadata": {},
     "output_type": "execute_result"
    }
   ],
   "source": [
    "np.inner(bb,bb)"
   ]
  },
  {
   "cell_type": "code",
   "execution_count": 129,
   "metadata": {},
   "outputs": [],
   "source": [
    "# podle fce v matlabu\n",
    "#[[0.67944829 0.48780161 0.36605012 0.69521616 0.44494077]\n",
    "# [0.37258175 0.68181531 0.06199577 0.54949625 0.75466711]\n",
    "# [0.69451745 0.37326143 0.95182627 0.41641494 0.78526393]\n",
    "# [0.90392383 0.38058289 0.88794242 0.76931024 0.93739307]\n",
    "# [0.3841206  0.93341526 0.71691721 0.34490743 0.03873032]]\n",
    "\n",
    "# https://math.stackexchange.com/questions/732924/reducing-a-matrix-to-upper-hessenberg-form-using-householder-transformations-in\n",
    "\n",
    "\n",
    "#### JEŠTĚ ZAZNAMENÁVAT MATICI Q - ale jak???\n",
    "\n",
    "import numpy as np\n",
    "\n",
    "def hessenberg_reduce3(A):\n",
    "    m, n = A.shape\n",
    "    H = A.copy() # Transformed matrix so far\n",
    "    #Q = np.eye(n) # Orthogonal transform so far\n",
    "    \n",
    "\n",
    "    for j in range(n-2):\n",
    "        vk = H[j+1:, j] #vemu j-tý sloupec\n",
    "        norm_vk = -np.linalg.norm(vk) # vypočtu z něj normu\n",
    "        if vk[0] < 0:\n",
    "            norm_vk = -norm_vk\n",
    "        vk[0] = vk[0] - norm_vk\n",
    "        #vk[0] =vk[0] + np.sign(vk[0])*norm_vk\n",
    "        vk = vk/np.linalg.norm(vk)\n",
    "                \n",
    "        H[j+1:, j+1:] = H[j+1:, j+1:] - 2 * vk.reshape(-1,1).dot(vk.reshape(1,-1).dot(H[j+1:, j+1:]))\n",
    "        H[j+1, j] = norm_vk\n",
    "        H[j+2:, j] = 0\n",
    "        H[:, j+1:] = H[:, j+1:] - 2 * (H[:, j+1:].dot(vk.reshape(-1,1)).dot(vk.reshape(1,-1))) \n",
    "        \n",
    "    return H #Q, H"
   ]
  },
  {
   "cell_type": "raw",
   "metadata": {},
   "source": [
    "A = np.array([[0.67944829 0.48780161 0.36605012 0.69521616 0.44494077]\n",
    "     [0.37258175 0.68181531 0.06199577 0.54949625 0.75466711]\n",
    "     [0.69451745 0.37326143 0.95182627 0.41641494 0.78526393]\n",
    "     [0.90392383 0.38058289 0.88794242 0.76931024 0.93739307]\n",
    "     [0.3841206  0.93341526 0.71691721 0.34490743 0.03873032]])\n"
   ]
  },
  {
   "cell_type": "code",
   "execution_count": 84,
   "metadata": {},
   "outputs": [
    {
     "data": {
      "text/plain": [
       "array([[0.67944829, 0.48780161, 0.36605012, 0.69521616, 0.44494077],\n",
       "       [0.37258175, 0.68181531, 0.06199577, 0.54949625, 0.75466711],\n",
       "       [0.69451745, 0.37326143, 0.95182627, 0.41641494, 0.78526393],\n",
       "       [0.90392383, 0.38058289, 0.88794242, 0.76931024, 0.93739307],\n",
       "       [0.3841206 , 0.93341526, 0.71691721, 0.34490743, 0.03873032]])"
      ]
     },
     "execution_count": 84,
     "metadata": {},
     "output_type": "execute_result"
    }
   ],
   "source": [
    "A"
   ]
  },
  {
   "cell_type": "code",
   "execution_count": 120,
   "metadata": {},
   "outputs": [
    {
     "data": {
      "text/plain": [
       "array([[ 0.67944829, -0.98095951,  0.2407682 ,  0.03379268, -0.17846027],\n",
       "       [-1.25928494,  2.21993721, -0.84193756,  0.11450613, -0.37477236],\n",
       "       [ 0.        , -0.36316909,  0.34935187,  0.63027784, -0.23898701],\n",
       "       [ 0.        ,  0.        ,  0.30185458, -0.47106608, -0.39179038],\n",
       "       [ 0.        ,  0.        ,  0.        ,  0.04140215,  0.34345914]])"
      ]
     },
     "execution_count": 120,
     "metadata": {},
     "output_type": "execute_result"
    }
   ],
   "source": [
    "hessenberg_reduce3(A)"
   ]
  },
  {
   "cell_type": "code",
   "execution_count": 94,
   "metadata": {},
   "outputs": [
    {
     "data": {
      "text/plain": [
       "array([[0.67944829, 0.48780161, 0.36605012, 0.69521616, 0.44494077],\n",
       "       [0.37258175, 0.68181531, 0.06199577, 0.54949625, 0.75466711],\n",
       "       [0.69451745, 0.37326143, 0.95182627, 0.41641494, 0.78526393],\n",
       "       [0.90392383, 0.38058289, 0.88794242, 0.76931024, 0.93739307],\n",
       "       [0.3841206 , 0.93341526, 0.71691721, 0.34490743, 0.03873032]])"
      ]
     },
     "execution_count": 94,
     "metadata": {},
     "output_type": "execute_result"
    }
   ],
   "source": [
    "A"
   ]
  },
  {
   "cell_type": "code",
   "execution_count": 95,
   "metadata": {},
   "outputs": [
    {
     "data": {
      "text/plain": [
       "array([0.37258175, 0.69451745, 0.90392383, 0.3841206 ])"
      ]
     },
     "execution_count": 95,
     "metadata": {},
     "output_type": "execute_result"
    }
   ],
   "source": [
    "A[1:,0]"
   ]
  },
  {
   "cell_type": "code",
   "execution_count": 96,
   "metadata": {},
   "outputs": [
    {
     "data": {
      "text/plain": [
       "array([1, 2, 3])"
      ]
     },
     "execution_count": 96,
     "metadata": {},
     "output_type": "execute_result"
    }
   ],
   "source": [
    "aa"
   ]
  },
  {
   "cell_type": "code",
   "execution_count": 97,
   "metadata": {},
   "outputs": [
    {
     "data": {
      "text/plain": [
       "array([[1., 0., 0.],\n",
       "       [0., 1., 0.],\n",
       "       [0., 0., 1.]])"
      ]
     },
     "execution_count": 97,
     "metadata": {},
     "output_type": "execute_result"
    }
   ],
   "source": [
    "bb"
   ]
  },
  {
   "cell_type": "code",
   "execution_count": 98,
   "metadata": {},
   "outputs": [
    {
     "data": {
      "text/plain": [
       "array([[1., 0., 0.],\n",
       "       [0., 2., 0.],\n",
       "       [0., 0., 3.]])"
      ]
     },
     "execution_count": 98,
     "metadata": {},
     "output_type": "execute_result"
    }
   ],
   "source": [
    "aa*bb"
   ]
  },
  {
   "cell_type": "code",
   "execution_count": 99,
   "metadata": {},
   "outputs": [
    {
     "data": {
      "text/plain": [
       "array([1., 2., 3.])"
      ]
     },
     "execution_count": 99,
     "metadata": {},
     "output_type": "execute_result"
    }
   ],
   "source": [
    "aa.dot(bb)"
   ]
  },
  {
   "cell_type": "code",
   "execution_count": 104,
   "metadata": {},
   "outputs": [
    {
     "data": {
      "text/plain": [
       "14.0"
      ]
     },
     "execution_count": 104,
     "metadata": {},
     "output_type": "execute_result"
    }
   ],
   "source": [
    "np.inner(aa.T,(aa.dot(bb)))"
   ]
  },
  {
   "cell_type": "code",
   "execution_count": 114,
   "metadata": {},
   "outputs": [
    {
     "data": {
      "text/plain": [
       "array([[1., 2., 3.],\n",
       "       [2., 4., 6.],\n",
       "       [3., 6., 9.]])"
      ]
     },
     "execution_count": 114,
     "metadata": {},
     "output_type": "execute_result"
    }
   ],
   "source": [
    "aa.reshape((-1, 1)).dot(aa.reshape(1,-1).dot(bb))"
   ]
  },
  {
   "cell_type": "code",
   "execution_count": 110,
   "metadata": {},
   "outputs": [
    {
     "ename": "ValueError",
     "evalue": "matmul: Input operand 1 has a mismatch in its core dimension 0, with gufunc signature (n?,k),(k,m?)->(n?,m?) (size 3 is different from 1)",
     "output_type": "error",
     "traceback": [
      "\u001b[0;31m---------------------------------------------------------------------------\u001b[0m",
      "\u001b[0;31mValueError\u001b[0m                                Traceback (most recent call last)",
      "\u001b[0;32m<ipython-input-110-3fef278105c0>\u001b[0m in \u001b[0;36m<module>\u001b[0;34m()\u001b[0m\n\u001b[0;32m----> 1\u001b[0;31m \u001b[0mnp\u001b[0m\u001b[0;34m.\u001b[0m\u001b[0mmatmul\u001b[0m\u001b[0;34m(\u001b[0m\u001b[0maa\u001b[0m\u001b[0;34m.\u001b[0m\u001b[0mreshape\u001b[0m\u001b[0;34m(\u001b[0m\u001b[0;34m(\u001b[0m\u001b[0;34m-\u001b[0m\u001b[0;36m1\u001b[0m\u001b[0;34m,\u001b[0m \u001b[0;36m1\u001b[0m\u001b[0;34m)\u001b[0m\u001b[0;34m)\u001b[0m\u001b[0;34m,\u001b[0m\u001b[0maa\u001b[0m\u001b[0;34m)\u001b[0m\u001b[0;34m\u001b[0m\u001b[0m\n\u001b[0m",
      "\u001b[0;31mValueError\u001b[0m: matmul: Input operand 1 has a mismatch in its core dimension 0, with gufunc signature (n?,k),(k,m?)->(n?,m?) (size 3 is different from 1)"
     ]
    }
   ],
   "source": [
    "np.matmul(aa.reshape((-1, 1)),aa)"
   ]
  },
  {
   "cell_type": "code",
   "execution_count": 112,
   "metadata": {},
   "outputs": [
    {
     "data": {
      "text/plain": [
       "array([[1, 2, 3]])"
      ]
     },
     "execution_count": 112,
     "metadata": {},
     "output_type": "execute_result"
    }
   ],
   "source": [
    "aa.reshape(1,-1)"
   ]
  },
  {
   "cell_type": "code",
   "execution_count": 175,
   "metadata": {},
   "outputs": [
    {
     "name": "stdout",
     "output_type": "stream",
     "text": [
      "[[0.948 0.315 0.927 0.24 ]\n",
      " [0.239 0.532 0.035 0.181]\n",
      " [0.206 0.251 0.177 0.076]\n",
      " [0.532 0.092 0.368 0.947]]\n",
      "[[ 0.948 -0.637 -0.772  0.12 ]\n",
      " [-0.619  1.054  0.023 -0.049]\n",
      " [ 0.    -0.15   0.204  0.347]\n",
      " [ 0.     0.     0.019  0.397]]\n",
      "[[ 0.948 -0.637 -0.772  0.12 ]\n",
      " [-0.619  1.054  0.023 -0.049]\n",
      " [ 0.    -0.15   0.204  0.347]\n",
      " [ 0.     0.     0.019  0.397]]\n",
      "[[ 0.948 -0.637 -0.772  0.12 ]\n",
      " [-0.619  1.054  0.023 -0.049]\n",
      " [ 0.    -0.15   0.204  0.347]\n",
      " [ 0.     0.     0.019  0.397]]\n"
     ]
    }
   ],
   "source": [
    "A = np.random.rand(4,4)\n",
    "print(np.around(A,decimals=3))\n",
    "\n",
    "#A = np.ones((4,4))\n",
    "\n",
    "Q2, H2 = hessenberg_reduce2(A)\n",
    "print(np.around(H2,decimals=3))\n",
    "\n",
    "\n",
    "H3 = hessenberg_reduce3(A)\n",
    "print(np.around(H3,decimals=3))\n",
    "\n",
    "from scipy import linalg\n",
    "\n",
    "HS = linalg.hessenberg(A)\n",
    "print(np.around(HS,decimals=3))"
   ]
  },
  {
   "cell_type": "code",
   "execution_count": 176,
   "metadata": {},
   "outputs": [
    {
     "name": "stdout",
     "output_type": "stream",
     "text": [
      "[1.58740944+0.j 0.04986238+0.j 0.57013275+0.j 0.3960946 +0.j]\n",
      "[1.58740944+0.j 0.04986238+0.j 0.57013275+0.j 0.3960946 +0.j]\n"
     ]
    }
   ],
   "source": [
    "w,_ = linalg.eig(A)\n",
    "print(w)\n",
    "\n",
    "w,_ = linalg.eig(H2)\n",
    "print(w)"
   ]
  },
  {
   "cell_type": "code",
   "execution_count": 180,
   "metadata": {},
   "outputs": [
    {
     "name": "stdout",
     "output_type": "stream",
     "text": [
      "[[ 1.  0.  0.  0.]\n",
      " [ 0.  1. -0. -0.]\n",
      " [ 0. -0.  1. -0.]\n",
      " [ 0. -0. -0.  1.]]\n"
     ]
    }
   ],
   "source": [
    "print(np.around(Q2 @ Q2.T, decimals=5))"
   ]
  },
  {
   "cell_type": "code",
   "execution_count": 183,
   "metadata": {},
   "outputs": [
    {
     "name": "stdout",
     "output_type": "stream",
     "text": [
      "[[ 0.948 -0.637 -0.772  0.12 ]\n",
      " [-0.619  1.054  0.023 -0.049]\n",
      " [ 0.    -0.15   0.204  0.347]\n",
      " [ 0.    -0.     0.019  0.397]]\n"
     ]
    }
   ],
   "source": [
    "print(np.around(Q2 @ A @ Q2.T, decimals=3))"
   ]
  },
  {
   "cell_type": "code",
   "execution_count": null,
   "metadata": {},
   "outputs": [],
   "source": []
  }
 ],
 "metadata": {
  "kernelspec": {
   "display_name": "Python 3",
   "language": "python",
   "name": "python3"
  },
  "language_info": {
   "codemirror_mode": {
    "name": "ipython",
    "version": 3
   },
   "file_extension": ".py",
   "mimetype": "text/x-python",
   "name": "python",
   "nbconvert_exporter": "python",
   "pygments_lexer": "ipython3",
   "version": "3.6.4"
  }
 },
 "nbformat": 4,
 "nbformat_minor": 4
}
