{
 "cells": [
  {
   "cell_type": "code",
   "execution_count": 24,
   "metadata": {},
   "outputs": [],
   "source": [
    "import numpy as np\n",
    "import numpy.linalg as nla\n",
    "np.set_printoptions(suppress=True)\n",
    "\n",
    "# G&vL 3rd pg. 210\n",
    "def make_house_vec(x):\n",
    "    n = x.shape[0]\n",
    "    dot_1on = x[1:].dot(x[1:])\n",
    "\n",
    "    # v is our return vector; we hack on v[0]\n",
    "    v = np.copy(x)\n",
    "    v[0] = 1.0\n",
    "    \n",
    "    if dot_1on < np.finfo(float).eps:\n",
    "        print('ted')\n",
    "        beta = 0.0\n",
    "    else:\n",
    "        # apply Parlett's formula (G&vL page 210) for safe v_0 = x_0 - norm(X) \n",
    "        norm_x= np.sqrt(x[0]**2 + dot_1on)\n",
    "        print(f'norm:{norm_x}')\n",
    "        if x[0] <= 0:\n",
    "            v[0] = x[0] - norm_x\n",
    "        else:\n",
    "            v[0] = -dot_1on / (x[0] + norm_x)\n",
    "        beta = 2 * v[0]**2 / (dot_1on + v[0]**2)\n",
    "        v = v / v[0]\n",
    "    return v, beta"
   ]
  },
  {
   "cell_type": "code",
   "execution_count": 18,
   "metadata": {},
   "outputs": [],
   "source": [
    "def full_house(n, col, v, beta):\n",
    "    ''' for size n, apply a Householder vector v in the lower right corner of \n",
    "        I_n to get a full-sized matrix with a smaller Householder matrix component'''\n",
    "    full = np.eye(n)\n",
    "    full[col:, col:] -= beta * np.outer(v,v)\n",
    "    return full\n",
    "\n",
    "# G&VL Algo. 5.4.2 with explicit reflections\n",
    "def house_bidiag_explicit_UV(A):\n",
    "    m,n = A.shape\n",
    "    U = np.eye(m)\n",
    "    Vt = np.eye(n)\n",
    "    \n",
    "    for col in range(n):\n",
    "        v, beta = make_house_vec(A[col:,col])\n",
    "        print(f'v: {v}, beta: {beta}')\n",
    "        A[col:,col:] = (np.eye(m-col) - beta * np.outer(v,v)).dot(A[col:,col:])\n",
    "        Q = full_house(m, col, v, beta)\n",
    "        U = U.dot(Q)\n",
    "        \n",
    "        #if col <= n-2:\n",
    "        #    # transpose here, reflection for zeros above diagonal in A\n",
    "        #    # col+1 keeps us off the super diagonal\n",
    "        #    v,beta = make_house_vec(A[col,col+1:].T)\n",
    "        #    A[col:,col+1:] = A[col:, col+1:].dot(np.eye(n-(col+1)) - beta * np.outer(v,v))\n",
    "        #    P = full_house(n, col+1, v, beta)\n",
    "        #    Vt = P.dot(Vt)\n",
    "    return U, A, Vt"
   ]
  },
  {
   "cell_type": "code",
   "execution_count": 25,
   "metadata": {},
   "outputs": [
    {
     "name": "stdout",
     "output_type": "stream",
     "text": [
      "[[ 1.  2.  3.]\n",
      " [ 4.  5.  6.]\n",
      " [ 7.  8.  9.]\n",
      " [10. 11. 12.]]\n",
      "norm:12.884098726725126\n",
      "v: [ 1.         -0.33658421 -0.58902237 -0.84146053], beta: 0.9223849474293666\n",
      "norm:1.0413152017509326\n",
      "v: [ 1.         -2.08706208 -1.44794203], beta: 0.26837120764369127\n",
      "ted\n",
      "v: [1. 0.], beta: 0.0\n",
      "B:\n",
      " [[12.88409873 14.59162988 16.29916104]\n",
      " [-0.          1.0413152   2.0826304 ]\n",
      " [-0.         -0.         -0.        ]\n",
      " [-0.         -0.          0.        ]]\n",
      "U:\n",
      " [[ 0.07761505  0.83305216 -0.54737648  0.01946767]\n",
      " [ 0.31046021  0.45123659  0.74434565  0.38203344]\n",
      " [ 0.54330537  0.06942101  0.15343813 -0.8224699 ]\n",
      " [ 0.77615053 -0.31239456 -0.35040731  0.42096879]]\n",
      "Vt:\n",
      " [[1. 0. 0.]\n",
      " [0. 1. 0.]\n",
      " [0. 0. 1.]]\n",
      "should equal input: True\n"
     ]
    }
   ],
   "source": [
    "#A = np.random.rand(5,5)\n",
    "\n",
    "A = np.arange(1,13.0).reshape(4,3)\n",
    "A_test = np.copy(A)\n",
    "\n",
    "print(A)\n",
    "\n",
    "U, B, Vt = house_bidiag_explicit_UV(A)\n",
    "print(\"B:\\n\", B)\n",
    "print(\"U:\\n\", U)\n",
    "print(\"Vt:\\n\", Vt)\n",
    "\n",
    "print(\"should equal input:\", np.allclose(U.dot(B).dot(Vt), A_test))"
   ]
  },
  {
   "cell_type": "code",
   "execution_count": 11,
   "metadata": {},
   "outputs": [
    {
     "name": "stdout",
     "output_type": "stream",
     "text": [
      "[[0.17133891 0.98000448 0.23487395 0.94124947 0.00229525 0.41697119]\n",
      " [0.27587647 0.65998118 0.0342021  0.84995943 0.045687   0.93001764]\n",
      " [0.57259144 0.38638564 0.82930839 0.54302212 0.89839889 0.49886778]\n",
      " [0.37913101 0.52795998 0.58414411 0.55812292 0.23001718 0.36430514]\n",
      " [0.4839459  0.80058805 0.27197761 0.04454865 0.36717138 0.5489275 ]\n",
      " [0.61724049 0.04276734 0.32495907 0.0147594  0.38084114 0.01597929]]\n"
     ]
    }
   ],
   "source": [
    "print(U@A@Vt)"
   ]
  },
  {
   "cell_type": "code",
   "execution_count": null,
   "metadata": {},
   "outputs": [],
   "source": []
  }
 ],
 "metadata": {
  "kernelspec": {
   "display_name": "Python 3",
   "language": "python",
   "name": "python3"
  },
  "language_info": {
   "codemirror_mode": {
    "name": "ipython",
    "version": 3
   },
   "file_extension": ".py",
   "mimetype": "text/x-python",
   "name": "python",
   "nbconvert_exporter": "python",
   "pygments_lexer": "ipython3",
   "version": "3.6.4"
  }
 },
 "nbformat": 4,
 "nbformat_minor": 4
}
