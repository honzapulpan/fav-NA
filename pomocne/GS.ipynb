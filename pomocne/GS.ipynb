{
 "cells": [
  {
   "cell_type": "code",
   "execution_count": 238,
   "metadata": {},
   "outputs": [],
   "source": [
    "import numpy as np"
   ]
  },
  {
   "cell_type": "code",
   "execution_count": 210,
   "metadata": {},
   "outputs": [],
   "source": [
    "n, m = A.shape\n",
    "R = np.zeros((m,m))\n",
    "Q = np.zeros((n,m))\n",
    "\n",
    "R[0,0] = np.linalg.norm(A[:,0])\n",
    "Q[:,0] = A[:,0] / R[0,0]\n",
    "\n",
    "for i in range(1,m):\n",
    "    z = A[:,i]\n",
    "    R[:i,i] = z @ Q[:, :i]\n",
    "    z = z - Q[:,:i] @ R[:i,i]\n",
    "    R[i,i] = np.linalg.norm(z)\n",
    "    Q[:, i] = z / np.linalg.norm(z)"
   ]
  },
  {
   "cell_type": "code",
   "execution_count": 239,
   "metadata": {},
   "outputs": [],
   "source": [
    "A = np.random.uniform(0,100,(4,6))"
   ]
  },
  {
   "cell_type": "code",
   "execution_count": 314,
   "metadata": {},
   "outputs": [],
   "source": [
    "def qr_mgs(A, it=1):\n",
    "    m, n = A.shape\n",
    "    s = np.min([m,n])\n",
    "    \n",
    "    R = np.zeros((s,n))\n",
    "    r = np.zeros((s,n))\n",
    "    Q = np.zeros((m,s))\n",
    "\n",
    "    for i in range(n):\n",
    "        z = A[:,i]\n",
    "        \n",
    "        for k in range(it):\n",
    "            for j in range(np.min([m,i])):\n",
    "                r[j, i] = z @ Q[:,j]\n",
    "                z = z - Q[:,j] * r[j,i]\n",
    "                R[j, i] += r[j, i]\n",
    "        \n",
    "        if i < m:\n",
    "            R[i,i] = np.linalg.norm(z)\n",
    "            Q[:, i] = z / R[i,i]\n",
    "        \n",
    "    return Q, R"
   ]
  },
  {
   "cell_type": "code",
   "execution_count": 315,
   "metadata": {},
   "outputs": [],
   "source": [
    "A = np.random.uniform(0,100,(10,4))\n",
    "Q,R = qr_gs(A)"
   ]
  },
  {
   "cell_type": "code",
   "execution_count": 316,
   "metadata": {},
   "outputs": [
    {
     "data": {
      "text/plain": [
       "array([[197.04, 151.31, 132.15, 107.58],\n",
       "       [  0.  ,  68.22,  37.57,  34.48],\n",
       "       [  0.  ,   0.  ,  81.24,  68.71],\n",
       "       [  0.  ,   0.  ,   0.  ,  48.71]])"
      ]
     },
     "execution_count": 316,
     "metadata": {},
     "output_type": "execute_result"
    }
   ],
   "source": [
    "np.set_printoptions(precision=2, suppress=True)\n",
    "R"
   ]
  },
  {
   "cell_type": "code",
   "execution_count": 317,
   "metadata": {},
   "outputs": [
    {
     "data": {
      "text/plain": [
       "array([[ 0.15,  0.01,  0.31,  0.49],\n",
       "       [ 0.17, -0.05,  0.44, -0.47],\n",
       "       [ 0.29, -0.01,  0.38,  0.3 ],\n",
       "       [ 0.17,  0.39, -0.  ,  0.32],\n",
       "       [ 0.45, -0.17, -0.38,  0.33],\n",
       "       [ 0.2 ,  0.62,  0.33, -0.11],\n",
       "       [ 0.5 , -0.55,  0.24, -0.21],\n",
       "       [ 0.24, -0.05, -0.01,  0.2 ],\n",
       "       [ 0.39,  0.15, -0.5 , -0.24],\n",
       "       [ 0.37,  0.33, -0.13, -0.29]])"
      ]
     },
     "execution_count": 317,
     "metadata": {},
     "output_type": "execute_result"
    }
   ],
   "source": [
    "Q"
   ]
  },
  {
   "cell_type": "code",
   "execution_count": 318,
   "metadata": {},
   "outputs": [
    {
     "data": {
      "text/plain": [
       "array([[30.2 , 23.67, 45.39, 61.79],\n",
       "       [33.16, 22.18, 56.21, 23.91],\n",
       "       [56.31, 42.9 , 68.19, 71.18],\n",
       "       [33.25, 51.88, 36.6 , 46.93],\n",
       "       [87.71, 55.43, 21.26, 31.58],\n",
       "       [40.  , 72.76, 76.56, 60.4 ],\n",
       "       [98.85, 38.5 , 64.93, 40.91],\n",
       "       [46.48, 32.28, 28.68, 32.71],\n",
       "       [77.65, 69.91, 17.48,  2.05],\n",
       "       [72.66, 78.65, 51.06, 28.33]])"
      ]
     },
     "execution_count": 318,
     "metadata": {},
     "output_type": "execute_result"
    }
   ],
   "source": [
    "Q@R"
   ]
  },
  {
   "cell_type": "code",
   "execution_count": 319,
   "metadata": {},
   "outputs": [
    {
     "data": {
      "text/plain": [
       "array([[30.2 , 23.67, 45.39, 61.79],\n",
       "       [33.16, 22.18, 56.21, 23.91],\n",
       "       [56.31, 42.9 , 68.19, 71.18],\n",
       "       [33.25, 51.88, 36.6 , 46.93],\n",
       "       [87.71, 55.43, 21.26, 31.58],\n",
       "       [40.  , 72.76, 76.56, 60.4 ],\n",
       "       [98.85, 38.5 , 64.93, 40.91],\n",
       "       [46.48, 32.28, 28.68, 32.71],\n",
       "       [77.65, 69.91, 17.48,  2.05],\n",
       "       [72.66, 78.65, 51.06, 28.33]])"
      ]
     },
     "execution_count": 319,
     "metadata": {},
     "output_type": "execute_result"
    }
   ],
   "source": [
    "A"
   ]
  },
  {
   "cell_type": "code",
   "execution_count": 262,
   "metadata": {},
   "outputs": [
    {
     "data": {
      "text/plain": [
       "array([[45.9631, 49.8953, 86.4422, 50.2987, 66.1072, 48.2954],\n",
       "       [32.7592, 54.4161, 82.8531, 95.9812,  2.6706, 34.7032],\n",
       "       [50.884 , 78.5973, 27.0063, 61.5848, 97.3542, 50.3421],\n",
       "       [50.0336, 85.8931, 82.0467, 96.9231, 91.397 , 62.493 ]])"
      ]
     },
     "execution_count": 262,
     "metadata": {},
     "output_type": "execute_result"
    }
   ],
   "source": [
    "Q@R"
   ]
  },
  {
   "cell_type": "code",
   "execution_count": 198,
   "metadata": {},
   "outputs": [
    {
     "data": {
      "text/plain": [
       "array([[3.05375202, 8.21352504, 6.75210794, 1.77423015],\n",
       "       [5.94669865, 0.02371081, 0.57892954, 5.49266631],\n",
       "       [8.11838972, 1.8593878 , 7.54143515, 7.19854764],\n",
       "       [9.62094251, 5.57731361, 5.16412125, 4.50403192]])"
      ]
     },
     "execution_count": 198,
     "metadata": {},
     "output_type": "execute_result"
    }
   ],
   "source": [
    "A"
   ]
  },
  {
   "cell_type": "code",
   "execution_count": 111,
   "metadata": {},
   "outputs": [
    {
     "data": {
      "text/plain": [
       "array([4.68661932, 4.68661932])"
      ]
     },
     "execution_count": 111,
     "metadata": {},
     "output_type": "execute_result"
    }
   ],
   "source": [
    "R[:i,i] = Q[:,i-1] @ z\n",
    "\n",
    "R[:i,i]"
   ]
  },
  {
   "cell_type": "code",
   "execution_count": 112,
   "metadata": {},
   "outputs": [
    {
     "data": {
      "text/plain": [
       "array([[ 4.1653158 ,  4.1653158 ],\n",
       "       [-1.67025379, -1.67025379],\n",
       "       [-1.16123683, -1.16123683],\n",
       "       [ 0.69016393,  0.69016393]])"
      ]
     },
     "execution_count": 112,
     "metadata": {},
     "output_type": "execute_result"
    }
   ],
   "source": [
    "qr = Q[:,i-1].reshape(-1,1) @ R[:i,i].reshape(1,-1)\n",
    "\n",
    "qr"
   ]
  },
  {
   "cell_type": "code",
   "execution_count": 296,
   "metadata": {},
   "outputs": [
    {
     "data": {
      "text/plain": [
       "1"
      ]
     },
     "execution_count": 296,
     "metadata": {},
     "output_type": "execute_result"
    }
   ],
   "source": [
    "np.min([1,2])"
   ]
  },
  {
   "cell_type": "code",
   "execution_count": 100,
   "metadata": {},
   "outputs": [
    {
     "data": {
      "text/plain": [
       "array([[4.68661932, 4.68661932]])"
      ]
     },
     "execution_count": 100,
     "metadata": {},
     "output_type": "execute_result"
    }
   ],
   "source": [
    "R[:i,i].reshape(1,-1)"
   ]
  },
  {
   "cell_type": "code",
   "execution_count": 113,
   "metadata": {},
   "outputs": [
    {
     "ename": "ValueError",
     "evalue": "operands could not be broadcast together with shapes (4,1) (8,1) ",
     "output_type": "error",
     "traceback": [
      "\u001b[0;31m---------------------------------------------------------------------------\u001b[0m",
      "\u001b[0;31mValueError\u001b[0m                                Traceback (most recent call last)",
      "\u001b[0;32m<ipython-input-113-17d7f6d8a889>\u001b[0m in \u001b[0;36m<module>\u001b[0;34m\u001b[0m\n\u001b[0;32m----> 1\u001b[0;31m \u001b[0mz\u001b[0m \u001b[0;34m=\u001b[0m \u001b[0mz\u001b[0m \u001b[0;34m-\u001b[0m \u001b[0mqr\u001b[0m\u001b[0;34m.\u001b[0m\u001b[0mreshape\u001b[0m\u001b[0;34m(\u001b[0m\u001b[0;34m-\u001b[0m\u001b[0;36m1\u001b[0m\u001b[0;34m,\u001b[0m\u001b[0;36m1\u001b[0m\u001b[0;34m)\u001b[0m\u001b[0;34m\u001b[0m\u001b[0m\n\u001b[0m\u001b[1;32m      2\u001b[0m \u001b[0;34m\u001b[0m\u001b[0m\n\u001b[1;32m      3\u001b[0m \u001b[0mz\u001b[0m\u001b[0;34m\u001b[0m\u001b[0m\n",
      "\u001b[0;31mValueError\u001b[0m: operands could not be broadcast together with shapes (4,1) (8,1) "
     ]
    }
   ],
   "source": [
    "z = z - qr.reshape(-1,1)\n",
    "\n",
    "z"
   ]
  },
  {
   "cell_type": "code",
   "execution_count": 108,
   "metadata": {},
   "outputs": [
    {
     "data": {
      "text/plain": [
       "7.652081637246492"
      ]
     },
     "execution_count": 108,
     "metadata": {},
     "output_type": "execute_result"
    }
   ],
   "source": [
    "R[i,i] = np.linalg.norm(z)\n",
    "\n",
    "R[i,i]"
   ]
  },
  {
   "cell_type": "code",
   "execution_count": 109,
   "metadata": {},
   "outputs": [
    {
     "data": {
      "text/plain": [
       "array([[ 0.21424727,  0.88876768,  0.        ,  0.        ],\n",
       "       [ 0.41721264, -0.35638777,  0.        ,  0.        ],\n",
       "       [ 0.56957566, -0.24777707,  0.        ,  0.        ],\n",
       "       [ 0.67499281,  0.14726264,  0.        ,  0.        ]])"
      ]
     },
     "execution_count": 109,
     "metadata": {},
     "output_type": "execute_result"
    }
   ],
   "source": [
    "Q[:,i] = z[:,0] / R[i,i]\n",
    "\n",
    "Q"
   ]
  },
  {
   "cell_type": "code",
   "execution_count": 89,
   "metadata": {},
   "outputs": [
    {
     "data": {
      "text/plain": [
       "array([[14.25340004,  6.59332636,  0.        ,  0.        ],\n",
       "       [ 0.        ,  7.65208164,  0.        ,  0.        ],\n",
       "       [ 0.        ,  0.        ,  0.        ,  0.        ],\n",
       "       [ 0.        ,  0.        ,  0.        ,  0.        ]])"
      ]
     },
     "execution_count": 89,
     "metadata": {},
     "output_type": "execute_result"
    }
   ],
   "source": [
    "R"
   ]
  },
  {
   "cell_type": "code",
   "execution_count": 78,
   "metadata": {},
   "outputs": [
    {
     "data": {
      "text/plain": [
       "7.652081637246492"
      ]
     },
     "execution_count": 78,
     "metadata": {},
     "output_type": "execute_result"
    }
   ],
   "source": [
    "R[i,i]"
   ]
  },
  {
   "cell_type": "code",
   "execution_count": 45,
   "metadata": {},
   "outputs": [
    {
     "data": {
      "text/plain": [
       "array([[0.21424727, 0.        , 0.        , 0.        ],\n",
       "       [0.41721264, 0.        , 0.        , 0.        ],\n",
       "       [0.56957566, 0.        , 0.        , 0.        ],\n",
       "       [0.67499281, 0.        , 0.        , 0.        ]])"
      ]
     },
     "execution_count": 45,
     "metadata": {},
     "output_type": "execute_result"
    }
   ],
   "source": [
    "Q"
   ]
  },
  {
   "cell_type": "code",
   "execution_count": 64,
   "metadata": {},
   "outputs": [
    {
     "data": {
      "text/plain": [
       "array([[14.25340004,  6.59332636,  0.        ,  0.        ],\n",
       "       [ 0.        ,  7.65208164,  0.        ,  0.        ],\n",
       "       [ 0.        ,  0.        ,  0.        ,  0.        ],\n",
       "       [ 0.        ,  0.        ,  0.        ,  0.        ]])"
      ]
     },
     "execution_count": 64,
     "metadata": {},
     "output_type": "execute_result"
    }
   ],
   "source": [
    "R"
   ]
  },
  {
   "cell_type": "code",
   "execution_count": 177,
   "metadata": {},
   "outputs": [],
   "source": [
    "\n",
    "\n",
    "def qr_gs(A):\n",
    "    n,m = A.shape\n",
    "    Q = np.zeros((n,m))    \n",
    "    for i in range(m):\n",
    "        vector = A[:, i]\n",
    "        space = Q[:, :i]\n",
    "        projection = vector @ space\n",
    "        vector = vector - np.sum(projection * space, axis=1)        \n",
    "        Q[:, i] = vector / np.linalg.norm(vector)\n",
    "    return Q, Q.T @ A"
   ]
  },
  {
   "cell_type": "code",
   "execution_count": 178,
   "metadata": {},
   "outputs": [],
   "source": [
    "Qa,Ra = qr_gs(A)"
   ]
  },
  {
   "cell_type": "code",
   "execution_count": 179,
   "metadata": {},
   "outputs": [
    {
     "data": {
      "text/plain": [
       "array([[ 0.21424727,  0.88876768,  0.13213234,  0.38305503],\n",
       "       [ 0.41721264, -0.35638777, -0.40290591,  0.73252181],\n",
       "       [ 0.56957566, -0.24777707,  0.78357835, -0.01396618],\n",
       "       [ 0.67499281,  0.14726264, -0.45410663, -0.56257052]])"
      ]
     },
     "execution_count": 179,
     "metadata": {},
     "output_type": "execute_result"
    }
   ],
   "source": [
    "Qa"
   ]
  },
  {
   "cell_type": "code",
   "execution_count": 180,
   "metadata": {},
   "outputs": [
    {
     "data": {
      "text/plain": [
       "array([[14.25340004,  6.59332636,  9.46932   ,  9.81204044],\n",
       "       [ 0.        ,  7.65208164,  4.68661932, -1.5010001 ],\n",
       "       [ 0.        , -0.        ,  4.22316132,  1.61672078],\n",
       "       [ 0.        ,  0.        , -0.        ,  2.06875385]])"
      ]
     },
     "execution_count": 180,
     "metadata": {},
     "output_type": "execute_result"
    }
   ],
   "source": [
    "Ra"
   ]
  },
  {
   "cell_type": "code",
   "execution_count": 181,
   "metadata": {},
   "outputs": [
    {
     "data": {
      "text/plain": [
       "array([[14.25340004,  6.59332636,  9.46932   ,  9.81204044],\n",
       "       [ 0.        ,  7.65208164,  4.68661932, -1.5010001 ],\n",
       "       [ 0.        , -0.        ,  4.22316132,  1.61672078],\n",
       "       [ 0.        ,  0.        , -0.        ,  2.06875385]])"
      ]
     },
     "execution_count": 181,
     "metadata": {},
     "output_type": "execute_result"
    }
   ],
   "source": [
    "np.set_printoptions(precision=8, suppress=True)\n",
    "Ra"
   ]
  },
  {
   "cell_type": "code",
   "execution_count": null,
   "metadata": {},
   "outputs": [],
   "source": []
  }
 ],
 "metadata": {
  "kernelspec": {
   "display_name": "Python 3",
   "language": "python",
   "name": "python3"
  },
  "language_info": {
   "codemirror_mode": {
    "name": "ipython",
    "version": 3
   },
   "file_extension": ".py",
   "mimetype": "text/x-python",
   "name": "python",
   "nbconvert_exporter": "python",
   "pygments_lexer": "ipython3",
   "version": "3.6.4"
  }
 },
 "nbformat": 4,
 "nbformat_minor": 4
}
