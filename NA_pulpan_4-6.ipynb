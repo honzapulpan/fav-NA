{
 "cells": [
  {
   "cell_type": "markdown",
   "metadata": {},
   "source": [
    "# Semestrální práce KMA/NA\n",
    "\n",
    "Jan Půlpán\n",
    "\n",
    "## Úkoly 4.-6."
   ]
  },
  {
   "cell_type": "code",
   "execution_count": 3,
   "metadata": {},
   "outputs": [],
   "source": [
    "import numpy as np\n",
    "import numpy.linalg as la\n",
    "from rogues import lauchli # Python and Numpy port of Prof. Nicholas Higham's matlab test matrices\n",
    "import pandas as pd\n",
    "import time\n",
    "\n",
    "np.set_printoptions(precision=4, suppress=True)"
   ]
  },
  {
   "cell_type": "markdown",
   "metadata": {},
   "source": [
    "### 4. Příprava kódů na výpočet QR rozkladu.\n",
    "\n",
    "Implementujeme algoritmy pro QR rozklad obecné obdélníkové matice $A \\in \\mathbb{R}^{n \\times m}$ tak, že platí $$A = QR,$$ kde $Q \\in \\mathbb{R}^{n \\times n}$ je ortogonální matice a $R \\in \\mathbb{R}^{n \\times m}$ je horní trojúhelníková matice. Implementované algoritmy jsou:\n",
    "- QR rozklad pomocí Householderových reflexí,\n",
    "- (iterovaný) klasický gram-schmidtův algoritmus,\n",
    "- (iterovaný) modifikovaný gram-schmidtův algoritmus."
   ]
  },
  {
   "cell_type": "code",
   "execution_count": 4,
   "metadata": {},
   "outputs": [],
   "source": [
    "# QR rozklad pomocí Householderových reflexí\n",
    "def qr_householder(A):\n",
    "    \n",
    "    n, m = A.shape\n",
    "    o = np.min([n,m])\n",
    "    if n > m: \n",
    "        o += 1\n",
    "    R = np.copy(A)\n",
    "    Q = np.eye(n)\n",
    "\n",
    "    for i in range(o-1):\n",
    "        v = np.copy(R[i:,i])\n",
    "        \n",
    "        v[0] = v[0] + np.sign(v[0]) * la.norm(v)\n",
    "        v = (v / la.norm(v)) #.reshape(-1,1)\n",
    "\n",
    "        Q_i = np.eye(n)\n",
    "        Q_i[i:,i:] = np.eye(n-i) - 2 * np.outer(v,v) #v @ v.T\n",
    "\n",
    "        Q = Q_i @ Q\n",
    "        R = Q_i @ R\n",
    "    \n",
    "    return Q.T, R"
   ]
  },
  {
   "cell_type": "code",
   "execution_count": 5,
   "metadata": {},
   "outputs": [],
   "source": [
    "# (iterovaný) klasický Gram-Schmidtův algoritmus\n",
    "def qr_cgs(A, it=1):\n",
    "    m, n = A.shape\n",
    "    s = np.min([m,n])\n",
    "    \n",
    "    R = np.zeros((s,n))\n",
    "    r = np.zeros((s,n))\n",
    "    Q = np.zeros((m,s))\n",
    "\n",
    "    for i in range(n):\n",
    "        z = A[:,i]\n",
    "        \n",
    "        for k in range(it):\n",
    "            for j in range(np.min([m,i])):\n",
    "                r[j, i] = z @ Q[:,j]\n",
    "\n",
    "            for j in range(np.min([m,i])):\n",
    "                z = z - Q[:,j] * r[j,i]\n",
    "                R[j, i] += r[j, i]\n",
    "\n",
    "        \n",
    "        if i < m:\n",
    "            R[i,i] = la.norm(z)\n",
    "            Q[:, i] = z / R[i,i]\n",
    "        \n",
    "    return Q, R"
   ]
  },
  {
   "cell_type": "code",
   "execution_count": 6,
   "metadata": {},
   "outputs": [],
   "source": [
    "# (iterovaný) modifikovaný Gram-Schmidtův algoritmus\n",
    "def qr_mgs(A, it=1):\n",
    "    m, n = A.shape\n",
    "    s = np.min([m,n])\n",
    "    \n",
    "    Q = np.zeros((m,s))\n",
    "    r = np.zeros((s,n))\n",
    "    R = np.zeros((s,n))\n",
    "\n",
    "    for i in range(n):\n",
    "        z = A[:,i]\n",
    "        \n",
    "        for k in range(it):\n",
    "            for j in range(np.min([m,i])):\n",
    "                r[j, i] = z @ Q[:,j]\n",
    "\n",
    "            #for j in range(np.min([m,i])):\n",
    "                z = z - Q[:,j] * r[j,i]\n",
    "                R[j, i] += r[j, i]\n",
    "\n",
    "        \n",
    "        if i < m:\n",
    "            R[i,i] = la.norm(z)\n",
    "            Q[:, i] = z / R[i,i]\n",
    "        \n",
    "    return Q, R"
   ]
  },
  {
   "cell_type": "markdown",
   "metadata": {},
   "source": [
    "### 5. Test numerické stability výpočtu QR rozkladu\n",
    "\n",
    "Numerickou stabilitu implementovaných algoritmů otestujeme na výpočtu QR rozkladu Lauchliho matice velikosti $21 \\times 20$ s parametrem $\\delta=10^{-7}$. Pro takto vypočtené rozklady vyjádříme ztrátu ortogonality $\\Vert I - Q^TQ \\Vert_F$ a normu rezidua $\\Vert A - QR \\Vert$. Výsledky jsou shrnuty v tabulce pod výpočty."
   ]
  },
  {
   "cell_type": "code",
   "execution_count": 7,
   "metadata": {},
   "outputs": [],
   "source": [
    "def ortogonality_loss(Q):\n",
    "    Qsqr = Q.T @ Q\n",
    "    return la.norm(np.identity(len(Qsqr)) - Qsqr)\n",
    "\n",
    "\n",
    "def res_norm(A, Q, R):\n",
    "    return la.norm(A - Q @ R, ord=2)"
   ]
  },
  {
   "cell_type": "code",
   "execution_count": 8,
   "metadata": {},
   "outputs": [],
   "source": [
    "A = lauchli(20, 1e-7)\n",
    "results = []\n",
    "\n",
    "Q, R = qr_householder(A)\n",
    "\n",
    "results.append(['QR Householder',\n",
    "                ortogonality_loss(Q),\n",
    "                res_norm(A, Q, R)])\n"
   ]
  },
  {
   "cell_type": "code",
   "execution_count": 9,
   "metadata": {},
   "outputs": [],
   "source": [
    "Q, R = qr_cgs(A)\n",
    "\n",
    "results.append(['CGS',\n",
    "                ortogonality_loss(Q),\n",
    "                res_norm(A, Q, R)])"
   ]
  },
  {
   "cell_type": "code",
   "execution_count": 10,
   "metadata": {},
   "outputs": [],
   "source": [
    "Q, R = qr_mgs(A)\n",
    "\n",
    "results.append(['MGS',\n",
    "                ortogonality_loss(Q),\n",
    "                res_norm(A, Q, R)])"
   ]
  },
  {
   "cell_type": "code",
   "execution_count": 11,
   "metadata": {},
   "outputs": [],
   "source": [
    "Q, R = qr_cgs(A, it=2)\n",
    "\n",
    "results.append(['ICGS',\n",
    "                ortogonality_loss(Q),\n",
    "                res_norm(A, Q, R)])"
   ]
  },
  {
   "cell_type": "code",
   "execution_count": 12,
   "metadata": {},
   "outputs": [],
   "source": [
    "Q, R = qr_mgs(A, it=2)\n",
    "\n",
    "results.append(['IMGS',\n",
    "                ortogonality_loss(Q),\n",
    "                res_norm(A, Q, R)])"
   ]
  },
  {
   "cell_type": "code",
   "execution_count": 13,
   "metadata": {},
   "outputs": [],
   "source": [
    "Q, R = np.linalg.qr(A)\n",
    "\n",
    "results.append(['QR Numpy',\n",
    "                ortogonality_loss(Q),\n",
    "                res_norm(A, Q, R)])"
   ]
  },
  {
   "cell_type": "markdown",
   "metadata": {},
   "source": [
    "Jednotlivé algoritmy na výpočet QR rozkladu jsou porovnány pomocí ztráty ortogonality a normy rezidua v následující tabulce. \n",
    "\n",
    "Pro normu rezidua a strojovou přesnost $\\epsilon$ použitého počítače a datového typu `float64` platí $$\\Vert A - QR \\Vert \\approx \\epsilon \\Vert A \\Vert.$$\n",
    "Hodnoty normy rezidua vypočtené pro použité algoritmy tento vztah potvrzují (viz. poslední sloupec tabulky) a jsou přibližně rovny hodnotě normy rezidua s využitím strojové přesnosti $\\epsilon$ a normy matice $A$.\n",
    "\n",
    "Ztráta ortogonality $\\Vert I - Q^TQ \\Vert_F$ ve Frobeniově normě je uvedena v třetím sloupci tabulky. U CGS pro ztrátu ortogonality platí $\\kappa^2(A) \\epsilon$, pro MGS pak $\\kappa(A) \\epsilon$. U ostatních algoritmů je ztráta ortogonality úměrná jen počítačové přesnosti $\\epsilon$. Tyto vztahy jsou výpočty potvrzeny."
   ]
  },
  {
   "cell_type": "code",
   "execution_count": 14,
   "metadata": {},
   "outputs": [
    {
     "name": "stdout",
     "output_type": "stream",
     "text": [
      "𝜖‖𝐴‖ ≈ 9.930136612989096e-16\n",
      "𝜅2(𝐴)𝜖: 0.4440892098500634\n",
      "𝜅(𝐴)𝜖: 9.9301366129891e-09\n"
     ]
    },
    {
     "data": {
      "text/html": [
       "<div>\n",
       "<style scoped>\n",
       "    .dataframe tbody tr th:only-of-type {\n",
       "        vertical-align: middle;\n",
       "    }\n",
       "\n",
       "    .dataframe tbody tr th {\n",
       "        vertical-align: top;\n",
       "    }\n",
       "\n",
       "    .dataframe thead th {\n",
       "        text-align: right;\n",
       "    }\n",
       "</style>\n",
       "<table border=\"1\" class=\"dataframe\">\n",
       "  <thead>\n",
       "    <tr style=\"text-align: right;\">\n",
       "      <th></th>\n",
       "      <th>Metoda</th>\n",
       "      <th>Ztráta ortogonality</th>\n",
       "      <th>Norma rezidua</th>\n",
       "    </tr>\n",
       "  </thead>\n",
       "  <tbody>\n",
       "    <tr>\n",
       "      <th>0</th>\n",
       "      <td>QR Householder</td>\n",
       "      <td>3.220291e-15</td>\n",
       "      <td>5.352150e-15</td>\n",
       "    </tr>\n",
       "    <tr>\n",
       "      <th>1</th>\n",
       "      <td>CGS</td>\n",
       "      <td>3.088932e-02</td>\n",
       "      <td>7.021667e-16</td>\n",
       "    </tr>\n",
       "    <tr>\n",
       "      <th>2</th>\n",
       "      <td>MGS</td>\n",
       "      <td>3.170847e-09</td>\n",
       "      <td>1.922963e-16</td>\n",
       "    </tr>\n",
       "    <tr>\n",
       "      <th>3</th>\n",
       "      <td>ICGS</td>\n",
       "      <td>6.960196e-16</td>\n",
       "      <td>7.021667e-16</td>\n",
       "    </tr>\n",
       "    <tr>\n",
       "      <th>4</th>\n",
       "      <td>IMGS</td>\n",
       "      <td>7.259458e-16</td>\n",
       "      <td>7.021667e-16</td>\n",
       "    </tr>\n",
       "    <tr>\n",
       "      <th>5</th>\n",
       "      <td>QR Numpy</td>\n",
       "      <td>1.438665e-15</td>\n",
       "      <td>1.554312e-15</td>\n",
       "    </tr>\n",
       "  </tbody>\n",
       "</table>\n",
       "</div>"
      ],
      "text/plain": [
       "           Metoda  Ztráta ortogonality  Norma rezidua\n",
       "0  QR Householder         3.220291e-15   5.352150e-15\n",
       "1             CGS         3.088932e-02   7.021667e-16\n",
       "2             MGS         3.170847e-09   1.922963e-16\n",
       "3            ICGS         6.960196e-16   7.021667e-16\n",
       "4            IMGS         7.259458e-16   7.021667e-16\n",
       "5        QR Numpy         1.438665e-15   1.554312e-15"
      ]
     },
     "execution_count": 14,
     "metadata": {},
     "output_type": "execute_result"
    }
   ],
   "source": [
    "eps = np.finfo(np.float64).eps\n",
    "print(f'𝜖‖𝐴‖ ≈ {eps * la.norm(A,ord=2)}')\n",
    "k_A = la.cond(A)\n",
    "print(f'𝜅2(𝐴)𝜖: {k_A**2 * eps}')\n",
    "print(f'𝜅(𝐴)𝜖: {k_A * eps}')\n",
    "\n",
    "df = pd.DataFrame(results, columns = ['Metoda',\n",
    "                                      'Ztráta ortogonality',\n",
    "                                      'Norma rezidua'])\n",
    "df"
   ]
  },
  {
   "cell_type": "markdown",
   "metadata": {},
   "source": [
    "### 6. Test rychlosti a přesnosti algoritmů\n",
    "\n",
    "Na dostatečné velké náhodné matici porovnáme výsledky všech implementovaných algoritmů a QR rozkladu pomocí funkce `numpy.linalg.qr`. Sledujeme tyto charakteristiky \n",
    "- čas výpočtu,\n",
    "- přesnost výpočtu měřenou ztrátou ortogonality a normou rezidua.\n",
    "\n",
    "Výsledky jsou opět shrnuty v tabulce."
   ]
  },
  {
   "cell_type": "code",
   "execution_count": 15,
   "metadata": {},
   "outputs": [],
   "source": [
    "A = np.random.uniform(-100,100,(1200,400))\n",
    "results = []"
   ]
  },
  {
   "cell_type": "code",
   "execution_count": 16,
   "metadata": {},
   "outputs": [],
   "source": [
    "t0 = time.time()\n",
    "Q, R = qr_householder(A)\n",
    "t1 = time.time()\n",
    "\n",
    "results.append(['QR Householder',\n",
    "                t1-t0, \n",
    "                ortogonality_loss(Q),\n",
    "                res_norm(A, Q, R)])"
   ]
  },
  {
   "cell_type": "code",
   "execution_count": 17,
   "metadata": {},
   "outputs": [],
   "source": [
    "t0 = time.time()\n",
    "Q, R = qr_cgs(A)\n",
    "t1 = time.time()\n",
    "\n",
    "results.append(['CGS',\n",
    "                t1-t0, \n",
    "                ortogonality_loss(Q),\n",
    "                res_norm(A, Q, R)])"
   ]
  },
  {
   "cell_type": "code",
   "execution_count": 18,
   "metadata": {},
   "outputs": [],
   "source": [
    "t0 = time.time()\n",
    "Q, R = qr_mgs(A)\n",
    "t1 = time.time()\n",
    "\n",
    "results.append(['MGS',\n",
    "                t1-t0, \n",
    "                ortogonality_loss(Q),\n",
    "                res_norm(A, Q, R)])"
   ]
  },
  {
   "cell_type": "code",
   "execution_count": 19,
   "metadata": {},
   "outputs": [],
   "source": [
    "t0 = time.time()\n",
    "Q, R = qr_cgs(A, it=2)\n",
    "t1 = time.time()\n",
    "\n",
    "results.append(['ICGS',\n",
    "                t1-t0, \n",
    "                ortogonality_loss(Q),\n",
    "                res_norm(A, Q, R)])"
   ]
  },
  {
   "cell_type": "code",
   "execution_count": 20,
   "metadata": {},
   "outputs": [],
   "source": [
    "t0 = time.time()\n",
    "Q, R = qr_mgs(A, it=2)\n",
    "t1 = time.time()\n",
    "results.append(['IMGS',\n",
    "                t1-t0, \n",
    "                ortogonality_loss(Q),\n",
    "                res_norm(A, Q, R)])"
   ]
  },
  {
   "cell_type": "code",
   "execution_count": 21,
   "metadata": {},
   "outputs": [],
   "source": [
    "t0 = time.time()\n",
    "Q, R = la.qr(A)\n",
    "t1 = time.time()\n",
    "\n",
    "results.append(['QR Numpy',\n",
    "                t1-t0, \n",
    "                ortogonality_loss(Q),\n",
    "                res_norm(A, Q, R)])"
   ]
  },
  {
   "cell_type": "code",
   "execution_count": 22,
   "metadata": {},
   "outputs": [
    {
     "name": "stdout",
     "output_type": "stream",
     "text": [
      "𝜖‖𝐴‖ ≈ 6.931024015705656e-13\n",
      "𝜅2(𝐴)𝜖: 2.8911635831939313e-15\n",
      "𝜅(𝐴)𝜖: 8.012286038353439e-16\n"
     ]
    },
    {
     "data": {
      "text/html": [
       "<div>\n",
       "<style scoped>\n",
       "    .dataframe tbody tr th:only-of-type {\n",
       "        vertical-align: middle;\n",
       "    }\n",
       "\n",
       "    .dataframe tbody tr th {\n",
       "        vertical-align: top;\n",
       "    }\n",
       "\n",
       "    .dataframe thead th {\n",
       "        text-align: right;\n",
       "    }\n",
       "</style>\n",
       "<table border=\"1\" class=\"dataframe\">\n",
       "  <thead>\n",
       "    <tr style=\"text-align: right;\">\n",
       "      <th></th>\n",
       "      <th>Metoda</th>\n",
       "      <th>Čas (s)</th>\n",
       "      <th>Ztráta ortogonality</th>\n",
       "      <th>Norma rezidua</th>\n",
       "    </tr>\n",
       "  </thead>\n",
       "  <tbody>\n",
       "    <tr>\n",
       "      <th>0</th>\n",
       "      <td>QR Householder</td>\n",
       "      <td>14.149284</td>\n",
       "      <td>4.805411e-13</td>\n",
       "      <td>3.633230e-11</td>\n",
       "    </tr>\n",
       "    <tr>\n",
       "      <th>1</th>\n",
       "      <td>CGS</td>\n",
       "      <td>1.190908</td>\n",
       "      <td>1.593082e-14</td>\n",
       "      <td>2.327689e-12</td>\n",
       "    </tr>\n",
       "    <tr>\n",
       "      <th>2</th>\n",
       "      <td>MGS</td>\n",
       "      <td>0.719419</td>\n",
       "      <td>1.308928e-14</td>\n",
       "      <td>2.335811e-12</td>\n",
       "    </tr>\n",
       "    <tr>\n",
       "      <th>3</th>\n",
       "      <td>ICGS</td>\n",
       "      <td>2.428116</td>\n",
       "      <td>1.072286e-14</td>\n",
       "      <td>2.901700e-12</td>\n",
       "    </tr>\n",
       "    <tr>\n",
       "      <th>4</th>\n",
       "      <td>IMGS</td>\n",
       "      <td>1.404417</td>\n",
       "      <td>9.725456e-15</td>\n",
       "      <td>2.797087e-12</td>\n",
       "    </tr>\n",
       "    <tr>\n",
       "      <th>5</th>\n",
       "      <td>QR Numpy</td>\n",
       "      <td>0.028009</td>\n",
       "      <td>1.186650e-14</td>\n",
       "      <td>2.936302e-12</td>\n",
       "    </tr>\n",
       "  </tbody>\n",
       "</table>\n",
       "</div>"
      ],
      "text/plain": [
       "           Metoda    Čas (s)  Ztráta ortogonality  Norma rezidua\n",
       "0  QR Householder  14.149284         4.805411e-13   3.633230e-11\n",
       "1             CGS   1.190908         1.593082e-14   2.327689e-12\n",
       "2             MGS   0.719419         1.308928e-14   2.335811e-12\n",
       "3            ICGS   2.428116         1.072286e-14   2.901700e-12\n",
       "4            IMGS   1.404417         9.725456e-15   2.797087e-12\n",
       "5        QR Numpy   0.028009         1.186650e-14   2.936302e-12"
      ]
     },
     "execution_count": 22,
     "metadata": {},
     "output_type": "execute_result"
    }
   ],
   "source": [
    "eps = np.finfo(np.float64).eps\n",
    "print(f'𝜖‖𝐴‖ ≈ {eps * la.norm(A,ord=2)}')\n",
    "k_A = la.cond(A)\n",
    "print(f'𝜅2(𝐴)𝜖: {k_A**2 * eps}')\n",
    "print(f'𝜅(𝐴)𝜖: {k_A * eps}')\n",
    "df = pd.DataFrame(results, columns = ['Metoda',\n",
    "                                      'Čas (s)',\n",
    "                                      'Ztráta ortogonality',\n",
    "                                      'Norma rezidua'])\n",
    "df"
   ]
  },
  {
   "cell_type": "markdown",
   "metadata": {},
   "source": [
    "Ztráta ortogonality i norma rezidua je srovnatelná pro všechny implementované metody. Na rozdíl od Luchliho matice má náhodná matice $A$ mnohem nižší číslo podmíněnosti a to tedy neovlivní tolik ztrátu ortogonality.\n",
    "\n",
    "Obecně potřebuje QR rozklad pomocí Householderových reflexi méně operací než CGS nebo MGS. Mělo by tedy platit, že bude proveden i v kratším čase. Toto se ale výpočty nepotvrzuje. Je to způsobeno jak větší výpočetní náročností těchto operací, tak hlavně neoptimalizovaným algoritmem. Z tabulky vidíme, že pro matici $A \\in \\mathbb{C}^{600 \\times 300}$, tedy $n > m$ je čas pro výpočet QR rozkladu pomocí Householderových reflexí výrazně delší, než v případě CGS/MGS nebo i jejich iterovaných variant. Pro čtvercové matice nebo matice kde $n < m$ může být implementovaný QR rozklad pomocí Householderových reflexí rychlejší relativně k ostatním metodám, vždy bude ale nejpomalejší absolutně. \n",
    "\n",
    "CGS a MGS k výpočtu potřebují stejný počet operací, délka běhu těchto algoritmů je tedy porovnatelná. Potvrzuje se také teoretický předpoklad, že iterované verze CGS a MGS vyžadují přibližně 2x delší čas běhu.\n",
    "\n",
    "Nejkratší čast výpočtu má interní funkce `numpy.linalg.qr`, která je ovšem interfacem na Fortran90 knihovnu LAPACK, která je kompilovaná a její čas běhu nelze tedy moc porovnávat s interpretovaným kódem."
   ]
  },
  {
   "cell_type": "code",
   "execution_count": 20,
   "metadata": {},
   "outputs": [
    {
     "name": "stdout",
     "output_type": "stream",
     "text": [
      "𝜖‖𝐴‖ ≈ 6.977540197617991e-13\n",
      "𝜅2(𝐴)𝜖: 3.1036876896898398e-15\n",
      "𝜅(𝐴)𝜖: 8.301548692068629e-16\n"
     ]
    },
    {
     "data": {
      "text/html": [
       "<div>\n",
       "<style scoped>\n",
       "    .dataframe tbody tr th:only-of-type {\n",
       "        vertical-align: middle;\n",
       "    }\n",
       "\n",
       "    .dataframe tbody tr th {\n",
       "        vertical-align: top;\n",
       "    }\n",
       "\n",
       "    .dataframe thead th {\n",
       "        text-align: right;\n",
       "    }\n",
       "</style>\n",
       "<table border=\"1\" class=\"dataframe\">\n",
       "  <thead>\n",
       "    <tr style=\"text-align: right;\">\n",
       "      <th></th>\n",
       "      <th>Metoda</th>\n",
       "      <th>Čas (s)</th>\n",
       "      <th>Ztráta ortogonality</th>\n",
       "      <th>Norma rezidua</th>\n",
       "    </tr>\n",
       "  </thead>\n",
       "  <tbody>\n",
       "    <tr>\n",
       "      <th>0</th>\n",
       "      <td>QR Householder</td>\n",
       "      <td>48.911872</td>\n",
       "      <td>4.682719e-13</td>\n",
       "      <td>3.557629e-11</td>\n",
       "    </tr>\n",
       "    <tr>\n",
       "      <th>1</th>\n",
       "      <td>CGS</td>\n",
       "      <td>2.413456</td>\n",
       "      <td>1.599495e-14</td>\n",
       "      <td>2.339853e-12</td>\n",
       "    </tr>\n",
       "    <tr>\n",
       "      <th>2</th>\n",
       "      <td>MGS</td>\n",
       "      <td>1.258907</td>\n",
       "      <td>1.304379e-14</td>\n",
       "      <td>2.346816e-12</td>\n",
       "    </tr>\n",
       "    <tr>\n",
       "      <th>3</th>\n",
       "      <td>ICGS</td>\n",
       "      <td>3.099307</td>\n",
       "      <td>1.065889e-14</td>\n",
       "      <td>2.901965e-12</td>\n",
       "    </tr>\n",
       "    <tr>\n",
       "      <th>4</th>\n",
       "      <td>IMGS</td>\n",
       "      <td>2.210634</td>\n",
       "      <td>9.806418e-15</td>\n",
       "      <td>2.795871e-12</td>\n",
       "    </tr>\n",
       "    <tr>\n",
       "      <th>5</th>\n",
       "      <td>QR Numpy</td>\n",
       "      <td>0.059884</td>\n",
       "      <td>1.208366e-14</td>\n",
       "      <td>2.978237e-12</td>\n",
       "    </tr>\n",
       "  </tbody>\n",
       "</table>\n",
       "</div>"
      ],
      "text/plain": [
       "           Metoda    Čas (s)  Ztráta ortogonality  Norma rezidua\n",
       "0  QR Householder  48.911872         4.682719e-13   3.557629e-11\n",
       "1             CGS   2.413456         1.599495e-14   2.339853e-12\n",
       "2             MGS   1.258907         1.304379e-14   2.346816e-12\n",
       "3            ICGS   3.099307         1.065889e-14   2.901965e-12\n",
       "4            IMGS   2.210634         9.806418e-15   2.795871e-12\n",
       "5        QR Numpy   0.059884         1.208366e-14   2.978237e-12"
      ]
     },
     "execution_count": 20,
     "metadata": {},
     "output_type": "execute_result"
    }
   ],
   "source": [
    "eps = np.finfo(np.float64).eps\n",
    "print(f'𝜖‖𝐴‖ ≈ {eps * la.norm(A,ord=2)}')\n",
    "k_A = la.cond(A)\n",
    "print(f'𝜅2(𝐴)𝜖: {k_A**2 * eps}')\n",
    "print(f'𝜅(𝐴)𝜖: {k_A * eps}')\n",
    "df = pd.DataFrame(results, columns = ['Metoda',\n",
    "                                      'Čas (s)',\n",
    "                                      'Ztráta ortogonality',\n",
    "                                      'Norma rezidua'])\n",
    "df"
   ]
  }
 ],
 "metadata": {
  "kernelspec": {
   "display_name": "Python 3",
   "language": "python",
   "name": "python3"
  },
  "language_info": {
   "codemirror_mode": {
    "name": "ipython",
    "version": 3
   },
   "file_extension": ".py",
   "mimetype": "text/x-python",
   "name": "python",
   "nbconvert_exporter": "python",
   "pygments_lexer": "ipython3",
   "version": "3.8.2"
  },
  "latex_envs": {
   "LaTeX_envs_menu_present": true,
   "autoclose": true,
   "autocomplete": true,
   "bibliofile": "biblio.bib",
   "cite_by": "apalike",
   "current_citInitial": 1,
   "eqLabelWithNumbers": true,
   "eqNumInitial": 1,
   "hotkeys": {
    "equation": "Ctrl-E",
    "itemize": "Ctrl-I"
   },
   "labels_anchors": false,
   "latex_user_defs": false,
   "report_style_numbering": false,
   "user_envs_cfg": false
  },
  "varInspector": {
   "cols": {
    "lenName": 16,
    "lenType": 16,
    "lenVar": 40
   },
   "kernels_config": {
    "python": {
     "delete_cmd_postfix": "",
     "delete_cmd_prefix": "del ",
     "library": "var_list.py",
     "varRefreshCmd": "print(var_dic_list())"
    },
    "r": {
     "delete_cmd_postfix": ") ",
     "delete_cmd_prefix": "rm(",
     "library": "var_list.r",
     "varRefreshCmd": "cat(var_dic_list()) "
    }
   },
   "types_to_exclude": [
    "module",
    "function",
    "builtin_function_or_method",
    "instance",
    "_Feature"
   ],
   "window_display": false
  }
 },
 "nbformat": 4,
 "nbformat_minor": 4
}
