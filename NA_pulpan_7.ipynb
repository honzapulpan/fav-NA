{
 "cells": [
  {
   "cell_type": "markdown",
   "metadata": {},
   "source": [
    "# Semestrální práce KMA/NA\n",
    "\n",
    "Jan Půlpán\n",
    "\n",
    "## Úkol 7."
   ]
  },
  {
   "cell_type": "code",
   "execution_count": 1,
   "metadata": {},
   "outputs": [],
   "source": [
    "import numpy as np\n",
    "import numpy.linalg as la\n",
    "from scipy.linalg import lu, hilbert\n",
    "import pandas as pd\n",
    "\n",
    "results = []"
   ]
  },
  {
   "cell_type": "markdown",
   "metadata": {},
   "source": [
    "### 7. Řešení soustavy lineárních rovnic\n",
    "\n",
    "Soustavu řešíme pro dvě zadané regulární matice $A \\in \\mathbb{R}^{n \\times n}$. Vektor přesného řešení $x$ zvolíme náhodně a příslušný vektor pravé strany dopočteme jako $b = Ax$. U matice stanovíme číslo podmíněnosti $\\kappa(A)$ a soustavu řešíme pomocí 4 různých metod:\n",
    "- $LU$ rozkladu s částečnou pivotací,\n",
    "- $LU$ rozkladu s částečnou pivotací a iteračním zpřesněním,\n",
    "- $QR$ rozkladu,\n",
    "- singulárního rozkladu.\n",
    "\n",
    "Kvalitu vypočteného řešení hodnotíme pomocí následujících charakteristik:\n",
    "- relativní norma rezidua,\n",
    "- relativní norma chyby,\n",
    "- velikost normované relativní zpětné vazby,\n",
    "- velikost růstového faktoru (v případě $LU$ rozkladu).\n",
    "\n",
    "Výsledné charakteristiky průběžně zaznamenáváme. Shrnutí a okomentované výsledky jsou na konci notebooku.\n"
   ]
  },
  {
   "cell_type": "code",
   "execution_count": 2,
   "metadata": {},
   "outputs": [],
   "source": [
    "def rel_sol_err(x_num, A, b):\n",
    "    return la.norm(b - (A@x_num)) / la.norm(b)\n",
    "\n",
    "def rel_err(x, x_num):\n",
    "    return la.norm(x - x_num) / la.norm(x)\n",
    "\n",
    "def rel_back_err(x, x_num, A, b):\n",
    "    return la.norm(b - (A@x_num)) / (la.norm(A,ord=2) * la.norm(x) + la.norm(b))\n",
    "\n",
    "def growth_factor(A, U):\n",
    "    return la.norm(U, ord=np.inf) / la.norm(A, ord=np.inf)"
   ]
  },
  {
   "cell_type": "markdown",
   "metadata": {},
   "source": [
    "#### I. Matice $A \\in \\mathbb{R}^{80 \\times 80}$ s 1 na diagonále, -1 pod diagonálou a 1 v posledním sloupci"
   ]
  },
  {
   "cell_type": "markdown",
   "metadata": {},
   "source": [
    "Nejprve sestavíme matici $A$, vygenerujme náhodný vektor $x$ jako přesné řešení a k němu dopočteme pravou stranu $b$."
   ]
  },
  {
   "cell_type": "code",
   "execution_count": 3,
   "metadata": {},
   "outputs": [],
   "source": [
    "n = 80\n",
    "A = np.array([[-float(k < l) for k in range(n)] for l in range(n)]) + np.eye(n)\n",
    "A[:-1,-1] = 1\n",
    "\n",
    "x = np.random.rand(n,1)\n",
    "b = A @ x\n"
   ]
  },
  {
   "cell_type": "markdown",
   "metadata": {},
   "source": [
    "Zjistíme číslo podmíněnosti $\\kappa(A)$. "
   ]
  },
  {
   "cell_type": "code",
   "execution_count": 4,
   "metadata": {},
   "outputs": [],
   "source": [
    "k_A = la.cond(A)"
   ]
  },
  {
   "cell_type": "markdown",
   "metadata": {},
   "source": [
    "a) řešení soustavy pomocí $LU$ rozkladu s částečnou pivotací\n",
    "\n",
    "$Ax = b, PA = LU \\rightarrow LUx = Pb$ tu pak řešíme ve 2 krocích\n",
    "1. rovnice pro $y$: $Ly = Pb$\n",
    "2. rovnice pro $x$: $Ux = y$"
   ]
  },
  {
   "cell_type": "code",
   "execution_count": 5,
   "metadata": {},
   "outputs": [],
   "source": [
    "P, L, U = lu(A)\n",
    "y = la.inv(L) @ P.T @ b\n",
    "x_num = la.inv(U) @ y\n",
    "\n",
    "results.append(['LU','A',\n",
    "               rel_sol_err(x_num, A, b),\n",
    "               rel_err(x, x_num),\n",
    "               rel_back_err(x, x_num, A, b),\n",
    "               growth_factor(A, U)])"
   ]
  },
  {
   "cell_type": "markdown",
   "metadata": {},
   "source": [
    "b) řešení soustavy pomocí $LU$ rozkladu s částečnou pivotací a iteračním zpřesněním\n",
    "(používá $LU$ rozklad z předchozího řešení)"
   ]
  },
  {
   "cell_type": "code",
   "execution_count": 6,
   "metadata": {},
   "outputs": [],
   "source": [
    "iter_n = 2\n",
    "\n",
    "for i in range(iter_n):\n",
    "    y = la.inv(L) @ P.T @ (b - A @ x_num)\n",
    "    e = la.inv(U) @ y\n",
    "    x_num += e\n",
    "\n",
    "results.append(['LU iter','A',\n",
    "               rel_sol_err(x_num, A, b),\n",
    "               rel_err(x, x_num),\n",
    "               rel_back_err(x, x_num, A, b),\n",
    "               ''])"
   ]
  },
  {
   "cell_type": "markdown",
   "metadata": {},
   "source": [
    "c) řešení soustavy pomocí $QR$ rozkladu\n",
    "\n",
    "$$\\begin{equation}\n",
    "\\begin{aligned}\n",
    "Ax = QRx &= b\\\\\n",
    "x & = R^{-1}Q^Tb\n",
    "\\end{aligned}\n",
    "\\end{equation}$$\n"
   ]
  },
  {
   "cell_type": "code",
   "execution_count": 7,
   "metadata": {},
   "outputs": [],
   "source": [
    "Q, R = la.qr(A)\n",
    "x_num = la.inv(R) @ (Q.T @ b)\n",
    "\n",
    "results.append(['QR','A',\n",
    "               rel_sol_err(x_num, A, b),\n",
    "               rel_err(x, x_num),\n",
    "               rel_back_err(x, x_num, A, b),\n",
    "               ''])"
   ]
  },
  {
   "cell_type": "markdown",
   "metadata": {},
   "source": [
    "d) řešení soustavy pomocí singulárního rozkladu\n",
    "\n",
    "$$\\begin{equation}\n",
    "\\begin{aligned}\n",
    "Ax = U \\Sigma V^*x &= b\\\\\n",
    "x & = V\\Sigma^{-1}U^* b\n",
    "\\end{aligned}\n",
    "\\end{equation}$$"
   ]
  },
  {
   "cell_type": "code",
   "execution_count": 8,
   "metadata": {},
   "outputs": [],
   "source": [
    "U, s, Vh = la.svd(A)\n",
    "x_num = Vh.T @ (np.diag(1/s) @ (U.T @ b))\n",
    "\n",
    "results.append(['SVD','A',\n",
    "               rel_sol_err(x_num, A, b),\n",
    "               rel_err(x, x_num),\n",
    "               rel_back_err(x, x_num, A, b),\n",
    "               ''])"
   ]
  },
  {
   "cell_type": "markdown",
   "metadata": {},
   "source": [
    "#### II. Hilbertova matice\n",
    "\n",
    "Druhou testovací maticí je Hilbertova matice $A = [a_{i,j}]$, velikosti 10, pro kterou platí $$a_{i,j} = \\frac{1}{i+j-1}.$$ Hilbertovu matici $A$ získáme pomocí funkce `scipy.linalg.hilbert`."
   ]
  },
  {
   "cell_type": "code",
   "execution_count": 9,
   "metadata": {},
   "outputs": [],
   "source": [
    "n = 10\n",
    "A = hilbert(n)\n",
    "x = np.random.rand(n,1)\n",
    "b = A @ x"
   ]
  },
  {
   "cell_type": "markdown",
   "metadata": {},
   "source": [
    "Zjistíme číslo podmíněnosti Hilbertovy matice $\\kappa(A)$."
   ]
  },
  {
   "cell_type": "code",
   "execution_count": 10,
   "metadata": {},
   "outputs": [],
   "source": [
    "k_H = la.cond(A)"
   ]
  },
  {
   "cell_type": "markdown",
   "metadata": {},
   "source": [
    "a) řešení soustavy pomocí $LU$ rozkladu s částečnou pivotací."
   ]
  },
  {
   "cell_type": "code",
   "execution_count": 11,
   "metadata": {},
   "outputs": [],
   "source": [
    "P, L, U = lu(A)\n",
    "y = la.inv(L) @ P.T @ b\n",
    "x_num = la.inv(U) @ y\n",
    "\n",
    "results.append(['LU','Hilbert',\n",
    "               rel_sol_err(x_num, A, b),\n",
    "               rel_err(x, x_num),\n",
    "               rel_back_err(x, x_num, A, b),\n",
    "               growth_factor(A, U)])"
   ]
  },
  {
   "cell_type": "markdown",
   "metadata": {},
   "source": [
    "b) řešení soustavy pomocí $LU$ rozkladu s částečnou pivotací a iteračním zpřesněním (používá $LU$ rozklad z předchozího řešení)"
   ]
  },
  {
   "cell_type": "code",
   "execution_count": 12,
   "metadata": {},
   "outputs": [],
   "source": [
    "iter_n = 2\n",
    "\n",
    "for i in range(iter_n):\n",
    "    y = la.inv(L) @ P.T @ (b - A @ x_num)\n",
    "    e = la.inv(U) @ y\n",
    "    x_num += e\n",
    "\n",
    "results.append(['LU iter','Hilbert',\n",
    "               rel_sol_err(x_num, A, b),\n",
    "               rel_err(x, x_num),\n",
    "               rel_back_err(x, x_num, A, b),\n",
    "               ''])"
   ]
  },
  {
   "cell_type": "markdown",
   "metadata": {},
   "source": [
    "c) řešení soustavy pomocí $QR$ rozkladu"
   ]
  },
  {
   "cell_type": "code",
   "execution_count": 13,
   "metadata": {},
   "outputs": [],
   "source": [
    "Q, R = la.qr(A)\n",
    "x_num = la.inv(R) @ (Q.T @ b)\n",
    "\n",
    "results.append(['QR','Hilbert',\n",
    "               rel_sol_err(x_num, A, b),\n",
    "               rel_err(x, x_num),\n",
    "               rel_back_err(x, x_num, A, b),\n",
    "               ''])"
   ]
  },
  {
   "cell_type": "markdown",
   "metadata": {},
   "source": [
    "d) řešení soustavy pomocí singulárního rozkladu"
   ]
  },
  {
   "cell_type": "code",
   "execution_count": 14,
   "metadata": {},
   "outputs": [],
   "source": [
    "U, s, Vh = la.svd(A)\n",
    "x_num = Vh.T @ (np.diag(1/s) @ (U.T @ b))\n",
    "\n",
    "results.append(['SVD','Hilbert',\n",
    "               rel_sol_err(x_num, A, b),\n",
    "               rel_err(x, x_num),\n",
    "               rel_back_err(x, x_num, A, b),\n",
    "               ''])"
   ]
  },
  {
   "cell_type": "markdown",
   "metadata": {},
   "source": [
    "## Výsledky\n",
    "\n",
    "Nejprve se budeme zabývat vlivem čísla podmíněnosti matice $\\kappa(A)$ na výsledné řešení. Matice $A$ má poměrně malé číslo podmíněnosti $\\kappa(A) \\approx 36$, oproti Hilbertově matici, která má číslo podmíněnosti $\\kappa(H) \\approx 1.6 \\times 10^{13}$. Vysoké číslo podmíněnosti má vliv na relativní normu chyby $\\frac{\\Vert x - \\hat{x} \\Vert}{\\Vert x \\Vert}$ a to až takovou, že všechny použité metody vykazují relativní normu chyby vysoko nad strojovou přesností v řádu $10^{-4}$. Relativní norma rezidua naopak při vysokém číslu podmíněnosti nemusí vypovídat nic o přesnosti aproximace řešení protože platí $$\\frac{\\Vert x - \\hat{x} \\Vert}{\\Vert x \\Vert} \\leq \\kappa(H)\\frac{\\Vert b - A\\hat{x} \\Vert}{\\Vert b \\Vert}.$$ Pro matici $A$, která má číslo podmíněnosti nízké, nic z tohoto neplatí.\n",
    "\n",
    "Charakteristika, která ovlivňuje výsledek speciálně při využití $LU$ rozkladu je růstový faktor $\\frac{\\Vert U \\Vert_\\infty}{\\Vert A \\Vert_\\infty}$. Pokud je růstový faktor velký a obecně velikost prvků matice $U$ roste exponenciálně v porovnání s prvky matice $A$ ovlivní to významně relativní normu rezidua $\\frac{\\Vert b - A\\hat{x} \\Vert}{\\Vert b \\Vert}$. Růstový faktor je v případě $LU$ rozkladu Hilbertovy matice roven $1$ a norma rezidua je tak na úrovní strojové přesnosti. V případě matice $A$ je ale růstový faktor $\\approx 7.5 \\times 10^{21}$ a proto i norma rezidua je rovna přibližně $2.8$. $LU$ rozklad je podmíněně stabilní a stabilita závisí právě na růstovém faktoru. Iterační zpřesnění dokáže ovšem tuto nestabilitu potlačit a to již při jedné iteraci navíc, jak je vidět z výsledků v tabulce. "
   ]
  },
  {
   "cell_type": "code",
   "execution_count": 15,
   "metadata": {},
   "outputs": [
    {
     "name": "stdout",
     "output_type": "stream",
     "text": [
      "Číslo podmíněnosti matice A: 35.8019485047514\n",
      "Číslo podmíněnosti Hilbertovy matice: 16024416992541.715\n"
     ]
    }
   ],
   "source": [
    "print(f'Číslo podmíněnosti matice A: {k_A}')\n",
    "print(f'Číslo podmíněnosti Hilbertovy matice: {k_H}')"
   ]
  },
  {
   "cell_type": "code",
   "execution_count": 16,
   "metadata": {},
   "outputs": [
    {
     "data": {
      "text/html": [
       "<div>\n",
       "<style scoped>\n",
       "    .dataframe tbody tr th:only-of-type {\n",
       "        vertical-align: middle;\n",
       "    }\n",
       "\n",
       "    .dataframe tbody tr th {\n",
       "        vertical-align: top;\n",
       "    }\n",
       "\n",
       "    .dataframe thead th {\n",
       "        text-align: right;\n",
       "    }\n",
       "</style>\n",
       "<table border=\"1\" class=\"dataframe\">\n",
       "  <thead>\n",
       "    <tr style=\"text-align: right;\">\n",
       "      <th></th>\n",
       "      <th>Metoda</th>\n",
       "      <th>Matice</th>\n",
       "      <th>Rel. norma rezidua</th>\n",
       "      <th>Rel. norma chyby</th>\n",
       "      <th>Rel. zpětná chyba</th>\n",
       "      <th>Růstový faktor</th>\n",
       "    </tr>\n",
       "  </thead>\n",
       "  <tbody>\n",
       "    <tr>\n",
       "      <th>0</th>\n",
       "      <td>LU</td>\n",
       "      <td>A</td>\n",
       "      <td>1.693709e+00</td>\n",
       "      <td>1.189010e+01</td>\n",
       "      <td>7.074720e-01</td>\n",
       "      <td>7.55579e+21</td>\n",
       "    </tr>\n",
       "    <tr>\n",
       "      <th>1</th>\n",
       "      <td>LU iter</td>\n",
       "      <td>A</td>\n",
       "      <td>9.248913e-13</td>\n",
       "      <td>1.327282e-11</td>\n",
       "      <td>3.863324e-13</td>\n",
       "      <td></td>\n",
       "    </tr>\n",
       "    <tr>\n",
       "      <th>2</th>\n",
       "      <td>QR</td>\n",
       "      <td>A</td>\n",
       "      <td>5.273145e-16</td>\n",
       "      <td>7.734207e-15</td>\n",
       "      <td>2.202623e-16</td>\n",
       "      <td></td>\n",
       "    </tr>\n",
       "    <tr>\n",
       "      <th>3</th>\n",
       "      <td>SVD</td>\n",
       "      <td>A</td>\n",
       "      <td>1.427529e-15</td>\n",
       "      <td>1.548606e-14</td>\n",
       "      <td>5.962871e-16</td>\n",
       "      <td></td>\n",
       "    </tr>\n",
       "    <tr>\n",
       "      <th>4</th>\n",
       "      <td>LU</td>\n",
       "      <td>Hilbert</td>\n",
       "      <td>1.317911e-15</td>\n",
       "      <td>5.066965e-04</td>\n",
       "      <td>6.232328e-16</td>\n",
       "      <td>1</td>\n",
       "    </tr>\n",
       "    <tr>\n",
       "      <th>5</th>\n",
       "      <td>LU iter</td>\n",
       "      <td>Hilbert</td>\n",
       "      <td>1.013178e-16</td>\n",
       "      <td>7.258702e-04</td>\n",
       "      <td>4.791265e-17</td>\n",
       "      <td></td>\n",
       "    </tr>\n",
       "    <tr>\n",
       "      <th>6</th>\n",
       "      <td>QR</td>\n",
       "      <td>Hilbert</td>\n",
       "      <td>4.044262e-16</td>\n",
       "      <td>2.588028e-04</td>\n",
       "      <td>1.912509e-16</td>\n",
       "      <td></td>\n",
       "    </tr>\n",
       "    <tr>\n",
       "      <th>7</th>\n",
       "      <td>SVD</td>\n",
       "      <td>Hilbert</td>\n",
       "      <td>2.433035e-16</td>\n",
       "      <td>2.330009e-04</td>\n",
       "      <td>1.150569e-16</td>\n",
       "      <td></td>\n",
       "    </tr>\n",
       "  </tbody>\n",
       "</table>\n",
       "</div>"
      ],
      "text/plain": [
       "    Metoda   Matice  Rel. norma rezidua  Rel. norma chyby  Rel. zpětná chyba  \\\n",
       "0       LU        A        1.693709e+00      1.189010e+01       7.074720e-01   \n",
       "1  LU iter        A        9.248913e-13      1.327282e-11       3.863324e-13   \n",
       "2       QR        A        5.273145e-16      7.734207e-15       2.202623e-16   \n",
       "3      SVD        A        1.427529e-15      1.548606e-14       5.962871e-16   \n",
       "4       LU  Hilbert        1.317911e-15      5.066965e-04       6.232328e-16   \n",
       "5  LU iter  Hilbert        1.013178e-16      7.258702e-04       4.791265e-17   \n",
       "6       QR  Hilbert        4.044262e-16      2.588028e-04       1.912509e-16   \n",
       "7      SVD  Hilbert        2.433035e-16      2.330009e-04       1.150569e-16   \n",
       "\n",
       "  Růstový faktor  \n",
       "0    7.55579e+21  \n",
       "1                 \n",
       "2                 \n",
       "3                 \n",
       "4              1  \n",
       "5                 \n",
       "6                 \n",
       "7                 "
      ]
     },
     "execution_count": 16,
     "metadata": {},
     "output_type": "execute_result"
    }
   ],
   "source": [
    "df = pd.DataFrame(results, columns = ['Metoda',\n",
    "                                      'Matice',\n",
    "                                      'Rel. norma rezidua',\n",
    "                                      'Rel. norma chyby',\n",
    "                                      'Rel. zpětná chyba',\n",
    "                                      'Růstový faktor'])\n",
    "df"
   ]
  },
  {
   "cell_type": "code",
   "execution_count": null,
   "metadata": {},
   "outputs": [],
   "source": []
  }
 ],
 "metadata": {
  "kernelspec": {
   "display_name": "Python 3",
   "language": "python",
   "name": "python3"
  },
  "language_info": {
   "codemirror_mode": {
    "name": "ipython",
    "version": 3
   },
   "file_extension": ".py",
   "mimetype": "text/x-python",
   "name": "python",
   "nbconvert_exporter": "python",
   "pygments_lexer": "ipython3",
   "version": "3.6.4"
  },
  "latex_envs": {
   "LaTeX_envs_menu_present": true,
   "autoclose": true,
   "autocomplete": true,
   "bibliofile": "biblio.bib",
   "cite_by": "apalike",
   "current_citInitial": 1,
   "eqLabelWithNumbers": true,
   "eqNumInitial": 1,
   "hotkeys": {
    "equation": "Ctrl-E",
    "itemize": "Ctrl-I"
   },
   "labels_anchors": false,
   "latex_user_defs": false,
   "report_style_numbering": false,
   "user_envs_cfg": false
  },
  "varInspector": {
   "cols": {
    "lenName": 16,
    "lenType": 16,
    "lenVar": 40
   },
   "kernels_config": {
    "python": {
     "delete_cmd_postfix": "",
     "delete_cmd_prefix": "del ",
     "library": "var_list.py",
     "varRefreshCmd": "print(var_dic_list())"
    },
    "r": {
     "delete_cmd_postfix": ") ",
     "delete_cmd_prefix": "rm(",
     "library": "var_list.r",
     "varRefreshCmd": "cat(var_dic_list()) "
    }
   },
   "types_to_exclude": [
    "module",
    "function",
    "builtin_function_or_method",
    "instance",
    "_Feature"
   ],
   "window_display": false
  }
 },
 "nbformat": 4,
 "nbformat_minor": 4
}
