{
 "cells": [
  {
   "cell_type": "markdown",
   "metadata": {},
   "source": [
    "# Semestrální práce KMA/NA\n",
    "\n",
    "Jan Půlpán\n",
    "\n",
    "## Úkol 8."
   ]
  },
  {
   "cell_type": "code",
   "execution_count": 1,
   "metadata": {},
   "outputs": [
    {
     "name": "stdout",
     "output_type": "stream",
     "text": [
      "Řád matice A: (2873, 2873)\n"
     ]
    }
   ],
   "source": [
    "import numpy as np\n",
    "import numpy.linalg as la\n",
    "import scipy.io as sio\n",
    "\n",
    "#nahrání matice ze souboru\n",
    "mat = sio.loadmat('zenios.mat')\n",
    "A = mat['A'].astype('float64')\n",
    "print(f'Řád matice A: {A.shape}')"
   ]
  },
  {
   "cell_type": "markdown",
   "metadata": {},
   "source": [
    "### 8. Numerická hodnost matice\n",
    "\n",
    "Matici $A$ jsme načetli z .mat Matlabovského souboru `zenios.mat` a udělali konverzi na typ `float64`, aby při výpočtech byla použita double precision.\n",
    "\n",
    "Nejprve vypočteme singulární rozklad matice $A$ pro který platí $$A = U \\Sigma V^*.$$"
   ]
  },
  {
   "cell_type": "code",
   "execution_count": 2,
   "metadata": {},
   "outputs": [
    {
     "name": "stdout",
     "output_type": "stream",
     "text": [
      "CPU times: user 21.8 s, sys: 661 ms, total: 22.4 s\n",
      "Wall time: 12.7 s\n"
     ]
    }
   ],
   "source": [
    "%%time\n",
    "U, s, Vh = la.svd(A)"
   ]
  },
  {
   "cell_type": "markdown",
   "metadata": {},
   "source": [
    "Numerickou hodnost matice $A$ určíme jako počet singulárních čísel výrazně větších než strojová přesnost. V našem případě tedy počet singulárních čísel pro která platí $\\sigma_i > nu \\Vert A \\Vert $, kde $n$ je řád matice $A$ a $u \\approx 2.2 \\times 10^{-16}$."
   ]
  },
  {
   "cell_type": "code",
   "execution_count": 3,
   "metadata": {},
   "outputs": [
    {
     "name": "stdout",
     "output_type": "stream",
     "text": [
      "Numerická hodnost: 207\n"
     ]
    }
   ],
   "source": [
    "u = 2.2e-16\n",
    "n, _ = A.shape\n",
    "A_norm = la.norm(A,ord=2)\n",
    "\n",
    "tol = n*u*A_norm\n",
    "\n",
    "# numerická hodnost --> počet prvků větších než tol\n",
    "r_num = (s > tol).sum()\n",
    "print(f'Numerická hodnost: {r_num}')"
   ]
  },
  {
   "cell_type": "code",
   "execution_count": 4,
   "metadata": {},
   "outputs": [
    {
     "data": {
      "text/plain": [
       "array([5.10395975e-06, 4.37853039e-06, 3.56941996e-06, 1.74319027e-06,\n",
       "       1.21854379e-06, 1.09753424e-06, 1.67848833e-10, 1.18870819e-11,\n",
       "       1.01321056e-15, 6.99494910e-16])"
      ]
     },
     "execution_count": 4,
     "metadata": {},
     "output_type": "execute_result"
    }
   ],
   "source": [
    "s[199:209]"
   ]
  },
  {
   "cell_type": "code",
   "execution_count": 7,
   "metadata": {},
   "outputs": [
    {
     "data": {
      "text/plain": [
       "1.6640675809301832e-10"
      ]
     },
     "execution_count": 7,
     "metadata": {},
     "output_type": "execute_result"
    }
   ],
   "source": [
    "s[205]-tol"
   ]
  },
  {
   "cell_type": "code",
   "execution_count": 8,
   "metadata": {},
   "outputs": [
    {
     "data": {
      "text/plain": [
       "1.4420748188502917e-12"
      ]
     },
     "execution_count": 8,
     "metadata": {},
     "output_type": "execute_result"
    }
   ],
   "source": [
    "tol"
   ]
  },
  {
   "cell_type": "markdown",
   "metadata": {
    "variables": {
     "a": "3"
    }
   },
   "source": [
    "Numerickou hodnost vypočtenou přes singulární čísla porovnáme s hodností matice vypočtené pomocí funkce `numpy.linalg.matrix_rank()`. Výsledky jsou shodné, i díky tomu že Numpy počítá hodnost matice také přes singulární rozklad ([viz dokumentace](https://docs.scipy.org/doc/numpy/reference/generated/numpy.linalg.matrix_rank.html))."
   ]
  },
  {
   "cell_type": "code",
   "execution_count": 4,
   "metadata": {},
   "outputs": [
    {
     "name": "stdout",
     "output_type": "stream",
     "text": [
      "Hodnost vypočtená přes matrix_rank(): 207 \n"
     ]
    }
   ],
   "source": [
    "A_rank = la.matrix_rank(A)\n",
    "print(f'Hodnost vypočtená přes matrix_rank(): {A_rank} ')"
   ]
  },
  {
   "cell_type": "markdown",
   "metadata": {},
   "source": [
    "Nyní nás zajímá velikost $\\Vert A - A_k \\Vert$, kterou určíme jen pomocí singulárních čísel. $A_k$ je nejlepší aproximace matice $A$ s hodností $k$. Tu získáme pomocí singulárního rozkladu $A = U \\Sigma V^*$ vztahem $$ \n",
    "A_k = \\sum_{i=1}^k \\sigma_j u_j v_j^*, \\quad k < r, \\quad r = \\textrm{rank}(A).$$\n",
    "Navíc platí $\\Vert A - A_k \\Vert = \\sigma_{k+1}, \\, k < r$, kde $r$ je vypočtená numerická hodnost.\n",
    "\n",
    "Rádi bychom určili velikost normy $\\Vert A - A_r \\Vert$ jen pomocí singulárního čísla. Podle předchozího musí ale platit $k < r$, proto najdeme výsledek pro $\\Vert A - A_{r-1} \\Vert$."
   ]
  },
  {
   "cell_type": "code",
   "execution_count": 9,
   "metadata": {},
   "outputs": [
    {
     "name": "stdout",
     "output_type": "stream",
     "text": [
      "Velikost ||A-Ar-1||: 1.0132105604656179e-15\n"
     ]
    }
   ],
   "source": [
    "print(f'Velikost ||A-Ar-1||: {s[r_num]}')"
   ]
  },
  {
   "cell_type": "markdown",
   "metadata": {},
   "source": [
    "Nyní ověříme přes numerický výpočet normy $\\Vert A - A_{r-1} \\Vert$."
   ]
  },
  {
   "cell_type": "code",
   "execution_count": 10,
   "metadata": {},
   "outputs": [
    {
     "name": "stdout",
     "output_type": "stream",
     "text": [
      "Velikost ||A-Ar-1|| numericky: 1.6241447208991068e-14\n"
     ]
    }
   ],
   "source": [
    "A_k = U[:,:r_num] @ np.diag(s[:r_num]) @ Vh[:r_num,:]\n",
    "print(f'Velikost ||A-Ar-1|| numericky: {la.norm(A-A_k, ord=2)}')"
   ]
  },
  {
   "cell_type": "code",
   "execution_count": null,
   "metadata": {},
   "outputs": [],
   "source": [
    "o"
   ]
  }
 ],
 "metadata": {
  "kernelspec": {
   "display_name": "Python 3",
   "language": "python",
   "name": "python3"
  },
  "language_info": {
   "codemirror_mode": {
    "name": "ipython",
    "version": 3
   },
   "file_extension": ".py",
   "mimetype": "text/x-python",
   "name": "python",
   "nbconvert_exporter": "python",
   "pygments_lexer": "ipython3",
   "version": "3.6.4"
  },
  "toc": {
   "base_numbering": 1,
   "nav_menu": {},
   "number_sections": true,
   "sideBar": true,
   "skip_h1_title": false,
   "title_cell": "Table of Contents",
   "title_sidebar": "Contents",
   "toc_cell": false,
   "toc_position": {},
   "toc_section_display": true,
   "toc_window_display": false
  }
 },
 "nbformat": 4,
 "nbformat_minor": 4
}
