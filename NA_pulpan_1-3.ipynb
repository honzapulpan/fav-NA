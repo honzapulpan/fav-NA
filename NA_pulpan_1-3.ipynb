{
 "cells": [
  {
   "cell_type": "markdown",
   "metadata": {},
   "source": [
    "# Semestrální práce KMA/NA\n",
    "\n",
    "Jan Půlpán\n",
    "\n",
    "## Úkoly 1.-3."
   ]
  },
  {
   "cell_type": "code",
   "execution_count": 1,
   "metadata": {},
   "outputs": [],
   "source": [
    "import numpy as np\n",
    "import numpy.linalg as la\n",
    "import scipy.linalg as sla\n",
    "\n",
    "np.set_printoptions(precision=4, suppress=True)"
   ]
  },
  {
   "cell_type": "markdown",
   "metadata": {},
   "source": [
    "### 1. Ortogonální podobnostní transformace.\n",
    "\n",
    "Převedeme náhodnou čtvercovou matici $A \\in \\mathbb{R}^{n \\times n}$ pomocí ortogonálních podobnostních transformací na matici $H$ v horním Hessenbergerově tvaru. Bude tedy platit $$QAQ^T = H.$$ Ke konstrukci matice matice $Q$ použijeme Houselholderovy reflexe."
   ]
  },
  {
   "cell_type": "code",
   "execution_count": 2,
   "metadata": {},
   "outputs": [],
   "source": [
    "def hessenberg(A):\n",
    "    m, n = A.shape\n",
    "    assert m == n, 'Not a square matrix.'\n",
    "    \n",
    "    Q = np.eye(m)\n",
    "    H = A.copy()\n",
    "\n",
    "    for k in range(n-2):\n",
    "        #k-tý sloupec, od k+1 řádku\n",
    "        v = np.copy(H[k+1:, k]) \n",
    "        # vypočítáme householderův vektor\n",
    "        v[0] = v[0] + np.sign(v[0])*la.norm(v) \n",
    "        v = (v / la.norm(v)).reshape(-1,1)\n",
    "        \n",
    "        # nasobeni zleva\n",
    "        H[k+1:, k:] = H[k+1:, k:] - 2 * v @ (v.T @ H[k+1:, k:])\n",
    "        # nasobeni zprava \n",
    "        H[:, k+1:] = H[:, k+1:] - 2 * (H[:, k+1:] @ v) @ v.T \n",
    "                                             \n",
    "        Q[k+1:] = Q[k+1:] - 2 * v @ (v.T @ Q[k+1:])\n",
    "        \n",
    "    return Q, H"
   ]
  },
  {
   "cell_type": "markdown",
   "metadata": {},
   "source": [
    "Transformaci otestujeme na náhodné matici $A \\in \\mathbb{R}^{6 \\times 6}$ s prvky $a_{ij} \\in [-100, 100]$."
   ]
  },
  {
   "cell_type": "code",
   "execution_count": 3,
   "metadata": {},
   "outputs": [
    {
     "name": "stdout",
     "output_type": "stream",
     "text": [
      "[[  0.6589 -92.4675  64.7778 -35.6905 -99.2047  59.7031]\n",
      " [-31.1709  46.4348  28.0304  35.6469  31.246   39.4784]\n",
      " [ 91.7574 -54.8067 -76.0436  30.9586  98.0911  -7.6056]\n",
      " [-51.8249 -71.5659 -83.6854 -12.0011 -61.9425   2.5674]\n",
      " [-39.8482   2.6921  76.2762 -91.4997  53.5056 -80.2281]\n",
      " [-76.3048 -56.3507  58.7068  43.5202  67.7773  89.1966]]\n"
     ]
    }
   ],
   "source": [
    "A = np.random.uniform(-100,100,(6,6))\n",
    "print(A)"
   ]
  },
  {
   "cell_type": "code",
   "execution_count": 4,
   "metadata": {},
   "outputs": [
    {
     "name": "stdout",
     "output_type": "stream",
     "text": [
      "[[   0.6589   72.1601  -77.2439   -2.7994  -26.6018  124.6478]\n",
      " [ 139.5964  -47.1881   54.1157   46.7142   33.0619  -27.0602]\n",
      " [  -0.      135.5714   27.3088   34.1713  -49.6992  -81.7634]\n",
      " [   0.        0.     -119.9666   39.6462   -0.8985  -40.1836]\n",
      " [   0.        0.        0.      153.3986   20.3314   53.6513]\n",
      " [   0.        0.        0.       -0.       10.648    60.994 ]]\n",
      "CPU times: user 1.25 ms, sys: 709 µs, total: 1.96 ms\n",
      "Wall time: 1.26 ms\n"
     ]
    }
   ],
   "source": [
    "%%time\n",
    "Q, H = hessenberg(A)\n",
    "print(H)"
   ]
  },
  {
   "cell_type": "markdown",
   "metadata": {},
   "source": [
    "Ověříme zda platí $QAQ^T = H$."
   ]
  },
  {
   "cell_type": "code",
   "execution_count": 5,
   "metadata": {},
   "outputs": [
    {
     "data": {
      "text/plain": [
       "True"
      ]
     },
     "execution_count": 5,
     "metadata": {},
     "output_type": "execute_result"
    }
   ],
   "source": [
    "np.allclose(Q@A@Q.T, H, rtol=1e-10, atol=1e-12)"
   ]
  },
  {
   "cell_type": "markdown",
   "metadata": {},
   "source": [
    "A pro kontrolu ještě porovnáme námi vygenerovanou matici $H$ s výstupem funkce `scipy.linalg.hessenberg(A)`."
   ]
  },
  {
   "cell_type": "code",
   "execution_count": 6,
   "metadata": {},
   "outputs": [
    {
     "data": {
      "text/plain": [
       "True"
      ]
     },
     "execution_count": 6,
     "metadata": {},
     "output_type": "execute_result"
    }
   ],
   "source": [
    "np.allclose(sla.hessenberg(A),H)"
   ]
  },
  {
   "cell_type": "markdown",
   "metadata": {},
   "source": [
    "### 2. Ortogonální podobnostní transformace symetrické matice.\n",
    "\n",
    "Jaký bude výsledek, pokud použijeme transformaci z 1. úlohy na symetrickou matici $A$? Matice tranformací v jednotlivých iteracích mají následující tvar\n",
    "$$ Q_i = \\begin{bmatrix}\n",
    "I_i & 0\\\\\n",
    "0 & \\tilde{Q_i}\n",
    "\\end{bmatrix}, \\quad i \\in \\{1,..,n-2\\}$$\n",
    "kde $I_i$ je jednotková matice velikosti $i \\times i$ a $\\tilde{Q_i} \\in \\mathbb{R}^{(n-i) \\times (n-i)}$ je matice Householderovy reflexe.\n",
    "\n",
    "Při násobení matice $A$ maticí $Q_i$ zleva nuluje tato operace prvky v $i$-tém sloupci od $(i+2)$-tého řádku. Pokud pak matici $A$ vynásobíme maticí $Q_i^{-1} = Q_i^T$ zprava, provede se stejná operace v $i$-tém řádku od $(i+2)$-tého sloupce. Protože je matice $A$ symetrická, i v tomto případě se tak prvky vynulují. Postupně tak vznikne třídiagonální symetrická matice $H$.\n",
    "\n",
    "Můžeme také psát $$H = QAQ^T = QA^TQ^T = (QAQ^T)^T = H^T.$$ Takže i matice $H$ je symetrická. A vzhledem k tomu, že je zároveň Hessenbergerova, musí být 3-diagonální."
   ]
  },
  {
   "cell_type": "code",
   "execution_count": 7,
   "metadata": {},
   "outputs": [
    {
     "name": "stdout",
     "output_type": "stream",
     "text": [
      "[[-25.3719 -17.4823  74.0511 -78.8255   4.8412 -46.095 ]\n",
      " [-17.4823 -40.9976  -8.1827  59.4614  84.7024 -59.4907]\n",
      " [ 74.0511  -8.1827 -53.3186 -80.9217  18.4054 -31.2824]\n",
      " [-78.8255  59.4614 -80.9217 -61.2163 -36.533   20.561 ]\n",
      " [  4.8412  84.7024  18.4054 -36.533  -16.969   88.5181]\n",
      " [-46.095  -59.4907 -31.2824  20.561   88.5181 -83.1777]]\n"
     ]
    }
   ],
   "source": [
    "a = np.random.uniform(-100,100,(6,6))\n",
    "A = np.tril(a) + np.tril(a, -1).T\n",
    "print(A)"
   ]
  },
  {
   "cell_type": "code",
   "execution_count": 8,
   "metadata": {},
   "outputs": [
    {
     "name": "stdout",
     "output_type": "stream",
     "text": [
      "[[ -25.3719  118.9573   -0.       -0.       -0.        0.    ]\n",
      " [ 118.9573   36.8665  -32.0807    0.        0.       -0.    ]\n",
      " [   0.      -32.0807 -111.156   107.1776   -0.       -0.    ]\n",
      " [   0.       -0.      107.1776  -91.9001  -59.0604    0.    ]\n",
      " [   0.        0.        0.      -59.0604 -116.5548  -72.5967]\n",
      " [   0.       -0.        0.        0.      -72.5967   27.0651]]\n",
      "CPU times: user 859 µs, sys: 203 µs, total: 1.06 ms\n",
      "Wall time: 930 µs\n"
     ]
    }
   ],
   "source": [
    "%%time\n",
    "Q, H = hessenberg(A)\n",
    "print(H)"
   ]
  },
  {
   "cell_type": "markdown",
   "metadata": {},
   "source": [
    "### 3. Ortogonální transformace\n",
    "\n",
    "Opět transformujeme náhodnou čtvercovou matici $A \\in \\mathbb{R}^{n \\times n}$ pomocí ortogonálních transformací zprava a zleva tentokrát na matici $B$ v horním bidiagonálním tvaru. Bude tedy platit $$U^TAV = B.$$ Ke konstrukci matic $U, V$ použijeme Houselholderovy reflexe ."
   ]
  },
  {
   "cell_type": "code",
   "execution_count": 9,
   "metadata": {},
   "outputs": [],
   "source": [
    "def bidiagonal(A):\n",
    "    m, n = A.shape\n",
    "    assert m == n, 'Not a square matrix.'\n",
    "\n",
    "    U = np.eye(m)\n",
    "    V = np.eye(m)\n",
    "    B = A.copy()\n",
    "\n",
    "    for k in range(n-1):\n",
    "        #k-tý sloupec, od k řádku\n",
    "        v = np.copy(B[k:, k]) \n",
    "        # vypočítáme householderův vektor\n",
    "        v[0] = v[0] + np.sign(v[0])*la.norm(v)\n",
    "        v = (v / la.norm(v)).reshape(-1,1)\n",
    "        \n",
    "        #násobení zleva\n",
    "        B[k:, k:] = B[k:, k:] - 2 * v @ (v.T @ B[k:, k:])     \n",
    "        U[k:] = U[k:] - 2 * v @ (v.T @ U[k:])\n",
    "        \n",
    "        #k-tý řádek, od k+1 sloupce\n",
    "        v = np.copy(B[k, k+1:]) \n",
    "        # vypočítáme householderův vektor\n",
    "        v[0] = v[0] + np.sign(v[0])*la.norm(v)\n",
    "        v = (v / la.norm(v)).reshape(-1,1)\n",
    "\n",
    "        #násobení zprava\n",
    "        B[:, k+1:] = B[:, k+1:] - 2 * (B[:, k+1:] @ v) @ v.T                                             \n",
    "        V[k+1:] = V[k+1:] - 2 * v @ (v.T @ V[k+1:])\n",
    "        \n",
    "    return U.T, V.T, B"
   ]
  },
  {
   "cell_type": "markdown",
   "metadata": {},
   "source": [
    "Funkci vyzkoušíme na náhodné čtvercové matici $A \\in \\mathbb{R}^{6 \\times 6}$."
   ]
  },
  {
   "cell_type": "code",
   "execution_count": 10,
   "metadata": {},
   "outputs": [
    {
     "name": "stdout",
     "output_type": "stream",
     "text": [
      "[[ 131.4899  163.3479   -0.       -0.       -0.       -0.    ]\n",
      " [  -0.      -74.0255   35.189     0.        0.        0.    ]\n",
      " [  -0.        0.     -114.0575 -150.1632   -0.        0.    ]\n",
      " [  -0.       -0.       -0.     -107.3879  -77.2931   -0.    ]\n",
      " [   0.        0.        0.        0.     -173.3919   21.2304]\n",
      " [   0.        0.        0.        0.        0.       84.3437]]\n"
     ]
    }
   ],
   "source": [
    "A = np.random.uniform(-100,100,(6,6))\n",
    "U, V, B = bidiagonal(A)\n",
    "\n",
    "print(B)"
   ]
  },
  {
   "cell_type": "markdown",
   "metadata": {},
   "source": [
    "Nakonec otestujeme platnost $U^TAV = B.$"
   ]
  },
  {
   "cell_type": "code",
   "execution_count": 11,
   "metadata": {},
   "outputs": [
    {
     "data": {
      "text/plain": [
       "True"
      ]
     },
     "execution_count": 11,
     "metadata": {},
     "output_type": "execute_result"
    }
   ],
   "source": [
    "np.allclose(U.T@A@V, B)"
   ]
  },
  {
   "cell_type": "code",
   "execution_count": null,
   "metadata": {},
   "outputs": [],
   "source": []
  }
 ],
 "metadata": {
  "kernelspec": {
   "display_name": "Python 3",
   "language": "python",
   "name": "python3"
  },
  "language_info": {
   "codemirror_mode": {
    "name": "ipython",
    "version": 3
   },
   "file_extension": ".py",
   "mimetype": "text/x-python",
   "name": "python",
   "nbconvert_exporter": "python",
   "pygments_lexer": "ipython3",
   "version": "3.8.2"
  },
  "toc": {
   "base_numbering": 1,
   "nav_menu": {},
   "number_sections": true,
   "sideBar": true,
   "skip_h1_title": false,
   "title_cell": "Table of Contents",
   "title_sidebar": "Contents",
   "toc_cell": false,
   "toc_position": {},
   "toc_section_display": true,
   "toc_window_display": false
  }
 },
 "nbformat": 4,
 "nbformat_minor": 4
}
